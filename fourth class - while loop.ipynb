{
 "cells": [
  {
   "cell_type": "code",
   "execution_count": 1,
   "id": "684e87ae",
   "metadata": {},
   "outputs": [
    {
     "name": "stdout",
     "output_type": "stream",
     "text": [
      "0 Hello World\n",
      "1 Hello World\n",
      "2 Hello World\n",
      "3 Hello World\n",
      "4 Hello World\n"
     ]
    }
   ],
   "source": [
    "# while <conditions>\n",
    "#       <operations>\n",
    "\n",
    "a = 0\n",
    "while a<5:\n",
    "    print (a, \"Hello World\")\n",
    "    a = a+1"
   ]
  },
  {
   "cell_type": "code",
   "execution_count": 3,
   "id": "0ba9abfa",
   "metadata": {},
   "outputs": [
    {
     "name": "stdout",
     "output_type": "stream",
     "text": [
      "1 Hello World\n",
      "2 Hello World\n",
      "3 Hello World\n",
      "4 Hello World\n"
     ]
    }
   ],
   "source": [
    "a = 1\n",
    "while a<5:\n",
    "    print (a,\"Hello World\")\n",
    "    a = a+1"
   ]
  },
  {
   "cell_type": "code",
   "execution_count": 4,
   "id": "c6b694c9",
   "metadata": {},
   "outputs": [
    {
     "name": "stdout",
     "output_type": "stream",
     "text": [
      "1 Hello World\n",
      "3 Hello World\n"
     ]
    }
   ],
   "source": [
    "a = 1\n",
    "while a<5:\n",
    "    print (a, \"Hello World\")\n",
    "    a = a+2"
   ]
  },
  {
   "cell_type": "code",
   "execution_count": 2,
   "id": "941198c0",
   "metadata": {},
   "outputs": [
    {
     "name": "stdout",
     "output_type": "stream",
     "text": [
      "Enter n = 5\n",
      "5 * 1 = 5\n",
      "5 * 2 = 10\n",
      "5 * 3 = 15\n",
      "5 * 4 = 20\n",
      "5 * 5 = 25\n",
      "5 * 6 = 30\n",
      "5 * 7 = 35\n",
      "5 * 8 = 40\n",
      "5 * 9 = 45\n",
      "5 * 10 = 50\n"
     ]
    }
   ],
   "source": [
    "i = 1\n",
    "n = int(input(\"Enter n = \"))\n",
    "while i <= 10:\n",
    "    print(n,\"*\",i,\"=\",n*i)\n",
    "    i = i+1"
   ]
  },
  {
   "cell_type": "code",
   "execution_count": 2,
   "id": "b20d3d0f",
   "metadata": {},
   "outputs": [
    {
     "name": "stdout",
     "output_type": "stream",
     "text": [
      "5 Hello World\n",
      "4 Hello World\n",
      "3 Hello World\n",
      "2 Hello World\n",
      "1 Hello World\n"
     ]
    }
   ],
   "source": [
    "a = 5\n",
    "while a>0:\n",
    "    print(a, \"Hello World\")\n",
    "    a = a-1"
   ]
  },
  {
   "cell_type": "code",
   "execution_count": 4,
   "id": "af9e367e",
   "metadata": {},
   "outputs": [
    {
     "name": "stdout",
     "output_type": "stream",
     "text": [
      "Enter n =5\n",
      "Enter x = 132\n",
      "Enter x = 243\n",
      "Enter x = 354\n",
      "Enter x = 123\n",
      "Enter x = 324\n",
      "1176\n"
     ]
    }
   ],
   "source": [
    "s = 0\n",
    "i = 0\n",
    "n = int(input(\"Enter n =\"))\n",
    "while i<n:\n",
    "    x = int(input(\"Enter x = \"))\n",
    "    s = s+x\n",
    "    i = i+1\n",
    "print (s)"
   ]
  },
  {
   "cell_type": "code",
   "execution_count": 7,
   "id": "f761eaee",
   "metadata": {},
   "outputs": [
    {
     "name": "stdout",
     "output_type": "stream",
     "text": [
      "Enter n = 5\n",
      "120\n"
     ]
    }
   ],
   "source": [
    "fac = 1\n",
    "i = 1\n",
    "n = int(input('Enter n = '))\n",
    "while i<=n:\n",
    "    fac = fac * i\n",
    "    i = i+1\n",
    "print (fac)"
   ]
  },
  {
   "cell_type": "code",
   "execution_count": 8,
   "id": "52cb5670",
   "metadata": {},
   "outputs": [
    {
     "name": "stdout",
     "output_type": "stream",
     "text": [
      "11\n"
     ]
    }
   ],
   "source": [
    "i = 0\n",
    "a = \"Hello World\"\n",
    "l = len(a)\n",
    "print(l)"
   ]
  },
  {
   "cell_type": "code",
   "execution_count": 9,
   "id": "c66c5b89",
   "metadata": {},
   "outputs": [
    {
     "name": "stdout",
     "output_type": "stream",
     "text": [
      "11\n",
      "d\n"
     ]
    }
   ],
   "source": [
    "i = 0\n",
    "a = \"Hello World\"\n",
    "l = len(a)\n",
    "print(l)\n",
    "print (a[10])"
   ]
  },
  {
   "cell_type": "code",
   "execution_count": 10,
   "id": "4c8d8df8",
   "metadata": {},
   "outputs": [
    {
     "name": "stdout",
     "output_type": "stream",
     "text": [
      "11\n",
      "H\n",
      "e\n",
      "l\n",
      "l\n",
      "o\n",
      " \n",
      "W\n",
      "o\n",
      "r\n",
      "l\n",
      "d\n"
     ]
    }
   ],
   "source": [
    "i = 0\n",
    "a = \"Hello World\"\n",
    "l = len(a)\n",
    "print(l)\n",
    "while i<l:\n",
    "    print(a[i])\n",
    "    i = i+1\n"
   ]
  },
  {
   "cell_type": "code",
   "execution_count": 11,
   "id": "59f5bd7a",
   "metadata": {},
   "outputs": [
    {
     "name": "stdout",
     "output_type": "stream",
     "text": [
      "11\n",
      "Hello World"
     ]
    }
   ],
   "source": [
    "i = 0\n",
    "a = \"Hello World\"\n",
    "l = len(a)\n",
    "print(l)\n",
    "while i<l:\n",
    "    print(a[i],end=\"\")\n",
    "    i = i+1"
   ]
  },
  {
   "cell_type": "code",
   "execution_count": 12,
   "id": "c4c3e4a1",
   "metadata": {},
   "outputs": [
    {
     "name": "stdout",
     "output_type": "stream",
     "text": [
      "Hello World"
     ]
    }
   ],
   "source": [
    "i = 0\n",
    "a = \"Hello World\"\n",
    "l = len(a)\n",
    "\n",
    "while i<l:\n",
    "    print(a[i],end=\"\")\n",
    "    i = i+1"
   ]
  },
  {
   "cell_type": "code",
   "execution_count": 13,
   "id": "33645edf",
   "metadata": {},
   "outputs": [],
   "source": [
    "# while and for are conditional loops "
   ]
  },
  {
   "cell_type": "code",
   "execution_count": 6,
   "id": "0385b8ac",
   "metadata": {},
   "outputs": [
    {
     "name": "stdout",
     "output_type": "stream",
     "text": [
      "Hello World"
     ]
    }
   ],
   "source": [
    "i = 0\n",
    "a = \"Hello World\"\n",
    "l = len(a)\n",
    "\n",
    "while i<l:\n",
    "    print(a[i],end= \"\")\n",
    "    i = i+1"
   ]
  },
  {
   "cell_type": "code",
   "execution_count": 7,
   "id": "dd90ffaf",
   "metadata": {},
   "outputs": [
    {
     "name": "stdout",
     "output_type": "stream",
     "text": [
      "HelloWorld"
     ]
    }
   ],
   "source": [
    "i = 0\n",
    "a = \"Hello World\"\n",
    "l = len(a)\n",
    "\n",
    "while i<l:\n",
    "    if a[i]!= \" \":\n",
    "        print(a[i],end= \"\")\n",
    "    i = i+1"
   ]
  },
  {
   "cell_type": "code",
   "execution_count": 5,
   "id": "7443b9cc",
   "metadata": {},
   "outputs": [
    {
     "name": "stdout",
     "output_type": "stream",
     "text": [
      "Hello"
     ]
    }
   ],
   "source": [
    "i = 0\n",
    "a = \"Hello World\"\n",
    "l = len(a)\n",
    "\n",
    "while i<l:\n",
    "    if a[i] == \" \":\n",
    "        break\n",
    "        \n",
    "    print(a[i],end = \"\")\n",
    "    i = i+1"
   ]
  },
  {
   "cell_type": "code",
   "execution_count": 8,
   "id": "8575d64c",
   "metadata": {},
   "outputs": [
    {
     "name": "stdout",
     "output_type": "stream",
     "text": [
      "HelloWorld"
     ]
    }
   ],
   "source": [
    "i = 0\n",
    "a = \"Hello World\"\n",
    "l = len(a)\n",
    "\n",
    "while i<l:\n",
    "    if a[i] == \" \":\n",
    "        i = i+1\n",
    "        continue \n",
    "        \n",
    "    print (a[i], end = \"\")\n",
    "    i = i+1"
   ]
  },
  {
   "cell_type": "code",
   "execution_count": null,
   "id": "fafca23b",
   "metadata": {},
   "outputs": [
    {
     "name": "stdout",
     "output_type": "stream",
     "text": [
      "Hello"
     ]
    }
   ],
   "source": [
    "i = 0\n",
    "a = \"Hello World\"\n",
    "l = len(a)\n",
    "\n",
    "while i<l:\n",
    "    if a[i] == \" \":\n",
    "        continue \n",
    "        \n",
    "    print (a[i], end = \"\")\n",
    "    i = i+1"
   ]
  },
  {
   "cell_type": "code",
   "execution_count": 4,
   "id": "c0fe903c",
   "metadata": {},
   "outputs": [
    {
     "name": "stdout",
     "output_type": "stream",
     "text": [
      "Enter n = 5\n",
      "5 is a prime number\n"
     ]
    }
   ],
   "source": [
    "# prime -> 2, 3, 5, 7, 11, 13, 17, 19\n",
    "# composite -> 4, 6, 8, 9, 10, 12, 15, 16, 18, 20\n",
    "i = 2\n",
    "n = int(input(\"Enter n = \"))\n",
    "while i<n:\n",
    "    if n%i ==0:\n",
    "        print (n, \"is a composite number\")\n",
    "        break\n",
    "    i = i+1\n",
    "else: \n",
    "    print(n, \"is a prime number\")"
   ]
  },
  {
   "cell_type": "code",
   "execution_count": 5,
   "id": "b61cae1b",
   "metadata": {},
   "outputs": [
    {
     "name": "stdout",
     "output_type": "stream",
     "text": [
      "Enter n = 10\n",
      "10 is a composite number\n"
     ]
    }
   ],
   "source": [
    "i = 2\n",
    "n = int(input(\"Enter n = \"))\n",
    "while i<n:\n",
    "    if n%i ==0:\n",
    "        print (n, \"is a composite number\")\n",
    "        break\n",
    "    i = i+1\n",
    "else: \n",
    "    print(n, \"is a prime number\")"
   ]
  },
  {
   "cell_type": "code",
   "execution_count": 3,
   "id": "5680dcb9",
   "metadata": {},
   "outputs": [],
   "source": [
    "if True: \n",
    "    pass"
   ]
  },
  {
   "cell_type": "code",
   "execution_count": 4,
   "id": "d6be1d56",
   "metadata": {},
   "outputs": [],
   "source": [
    "# pass is for null statements or to work on a code later "
   ]
  },
  {
   "cell_type": "code",
   "execution_count": 5,
   "id": "cc10a201",
   "metadata": {},
   "outputs": [],
   "source": [
    "for i in range(5):\n",
    "    pass"
   ]
  },
  {
   "cell_type": "code",
   "execution_count": 10,
   "id": "78b48468",
   "metadata": {},
   "outputs": [
    {
     "name": "stdout",
     "output_type": "stream",
     "text": [
      "number of terms = 5\n",
      "Fibonnaci sequence:\n",
      "0112"
     ]
    }
   ],
   "source": [
    "# 0,1,1,2,3,5,8,13\n",
    "\n",
    "a = 0\n",
    "b = 1\n",
    "c = 0\n",
    "n = int(input(\"number of terms = \"))\n",
    "if n <= 0:\n",
    "    print(\"Please enter a positive integer\")\n",
    "elif n == 1:\n",
    "    print (\"Fibonnaci series upto\", n)\n",
    "    print (a)\n",
    "else:\n",
    "    print(\"Fibonnaci sequence:\")\n",
    "    while c<n:\n",
    "        print (a, end=\"\")\n",
    "        c = a+b\n",
    "        a = b\n",
    "        b = c\n",
    "        c += 1"
   ]
  },
  {
   "cell_type": "code",
   "execution_count": null,
   "id": "c019cdb1",
   "metadata": {},
   "outputs": [],
   "source": []
  }
 ],
 "metadata": {
  "kernelspec": {
   "display_name": "Python 3 (ipykernel)",
   "language": "python",
   "name": "python3"
  },
  "language_info": {
   "codemirror_mode": {
    "name": "ipython",
    "version": 3
   },
   "file_extension": ".py",
   "mimetype": "text/x-python",
   "name": "python",
   "nbconvert_exporter": "python",
   "pygments_lexer": "ipython3",
   "version": "3.9.7"
  }
 },
 "nbformat": 4,
 "nbformat_minor": 5
}
