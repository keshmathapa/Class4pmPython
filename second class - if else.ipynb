{
 "cells": [
  {
   "cell_type": "code",
   "execution_count": 1,
   "id": "f2a42a5c",
   "metadata": {},
   "outputs": [],
   "source": [
    "#if <conditions>:\n",
    "   #<operations>\n",
    "#elif <condition>:\n",
    "  #<operations>\n",
    "#else:\n",
    "    #<operations>"
   ]
  },
  {
   "cell_type": "code",
   "execution_count": 2,
   "id": "56bfca3f",
   "metadata": {},
   "outputs": [],
   "source": [
    "# < > <= >= == !="
   ]
  },
  {
   "cell_type": "code",
   "execution_count": 3,
   "id": "1024ee5f",
   "metadata": {},
   "outputs": [
    {
     "name": "stdout",
     "output_type": "stream",
     "text": [
      "False\n"
     ]
    }
   ],
   "source": [
    "print (10>20)"
   ]
  },
  {
   "cell_type": "code",
   "execution_count": 4,
   "id": "76544dba",
   "metadata": {},
   "outputs": [
    {
     "name": "stdout",
     "output_type": "stream",
     "text": [
      "b is greater\n"
     ]
    }
   ],
   "source": [
    "a=10\n",
    "b=20\n",
    "if a<b:\n",
    "  print (\"b is greater\")\n",
    "elif b<a:\n",
    "  print (\"a is greater\")\n",
    "else: \n",
    "  print (\"both are equal\")"
   ]
  },
  {
   "cell_type": "code",
   "execution_count": 5,
   "id": "49eeaecc",
   "metadata": {},
   "outputs": [
    {
     "name": "stdout",
     "output_type": "stream",
     "text": [
      "Enter a =10\n",
      "Enter b =3\n",
      "a is greater\n"
     ]
    }
   ],
   "source": [
    "a=int(input(\"Enter a =\"))\n",
    "b=int(input(\"Enter b =\"))\n",
    "if a<b:\n",
    "  print (\"b is greater\")\n",
    "elif b<a:\n",
    "  print (\"a is greater\")\n",
    "else: \n",
    "  print (\"both are equal\")"
   ]
  },
  {
   "cell_type": "code",
   "execution_count": 6,
   "id": "258d4414",
   "metadata": {},
   "outputs": [
    {
     "name": "stdout",
     "output_type": "stream",
     "text": [
      "Enter a =10\n",
      "10 is even no\n"
     ]
    }
   ],
   "source": [
    "a=int(input(\"Enter a =\"))\n",
    "if a%2 == 0:\n",
    "  print (a, \"is even no\")\n",
    "else:\n",
    "  print (a, \"is odd no\")  "
   ]
  },
  {
   "cell_type": "code",
   "execution_count": 7,
   "id": "87f6e149",
   "metadata": {},
   "outputs": [
    {
     "name": "stdout",
     "output_type": "stream",
     "text": [
      "Enter a =10\n",
      "Enter b = 0\n",
      "Enter + - * / /\n"
     ]
    },
    {
     "ename": "ZeroDivisionError",
     "evalue": "division by zero",
     "output_type": "error",
     "traceback": [
      "\u001b[0;31m---------------------------------------------------------------------------\u001b[0m",
      "\u001b[0;31mZeroDivisionError\u001b[0m                         Traceback (most recent call last)",
      "\u001b[0;32m/var/folders/0_/kdcbhyrn1ssd2_0tvptg35cr0000gn/T/ipykernel_11690/3577745133.py\u001b[0m in \u001b[0;36m<module>\u001b[0;34m\u001b[0m\n\u001b[1;32m     10\u001b[0m   \u001b[0mprint\u001b[0m \u001b[0;34m(\u001b[0m\u001b[0ma\u001b[0m\u001b[0;34m*\u001b[0m\u001b[0mb\u001b[0m\u001b[0;34m)\u001b[0m\u001b[0;34m\u001b[0m\u001b[0;34m\u001b[0m\u001b[0m\n\u001b[1;32m     11\u001b[0m \u001b[0;32melif\u001b[0m \u001b[0mo\u001b[0m \u001b[0;34m==\u001b[0m \u001b[0;34m\"/\"\u001b[0m\u001b[0;34m:\u001b[0m\u001b[0;34m\u001b[0m\u001b[0;34m\u001b[0m\u001b[0m\n\u001b[0;32m---> 12\u001b[0;31m   \u001b[0mprint\u001b[0m \u001b[0;34m(\u001b[0m\u001b[0ma\u001b[0m\u001b[0;34m/\u001b[0m\u001b[0mb\u001b[0m\u001b[0;34m)\u001b[0m\u001b[0;34m\u001b[0m\u001b[0;34m\u001b[0m\u001b[0m\n\u001b[0m\u001b[1;32m     13\u001b[0m \u001b[0;32melse\u001b[0m\u001b[0;34m:\u001b[0m\u001b[0;34m\u001b[0m\u001b[0;34m\u001b[0m\u001b[0m\n\u001b[1;32m     14\u001b[0m   \u001b[0mprint\u001b[0m \u001b[0;34m(\u001b[0m\u001b[0;34m\"Invalid operator\"\u001b[0m\u001b[0;34m)\u001b[0m\u001b[0;34m\u001b[0m\u001b[0;34m\u001b[0m\u001b[0m\n",
      "\u001b[0;31mZeroDivisionError\u001b[0m: division by zero"
     ]
    }
   ],
   "source": [
    "# and or not\n",
    "a = int(input(\"Enter a =\"))\n",
    "b = int(input(\"Enter b = \"))\n",
    "o = input(\"Enter + - * / \")\n",
    "if o == \"+\":\n",
    "  print (a+b)\n",
    "elif o == \"-\":\n",
    "  print (a-b)\n",
    "elif o == \"*\":\n",
    "  print (a*b)\n",
    "elif o == \"/\":\n",
    "  print (a/b)\n",
    "else: \n",
    "  print (\"Invalid operator\")"
   ]
  },
  {
   "cell_type": "code",
   "execution_count": 8,
   "id": "ab00c1b7",
   "metadata": {},
   "outputs": [
    {
     "name": "stdout",
     "output_type": "stream",
     "text": [
      "Enter a =10\n",
      "Enter b = 0\n",
      "Enter + - * / /\n",
      "The value of b cannot be zero\n"
     ]
    }
   ],
   "source": [
    "# and or not\n",
    "a = int(input(\"Enter a =\"))\n",
    "b = int(input(\"Enter b = \"))\n",
    "o = input(\"Enter + - * / \")\n",
    "if o == \"+\":\n",
    "  print (a+b)\n",
    "elif o == \"-\":\n",
    "  print (a-b)\n",
    "elif o == \"*\":\n",
    "  print (a*b)\n",
    "elif o == \"/\" and b!=0:\n",
    "  print (a/b)\n",
    "elif o == \"/\" and b == 0:\n",
    "  print (\"The value of b cannot be zero\")\n",
    "else: \n",
    "  print (\"Invalid operator\")"
   ]
  },
  {
   "cell_type": "code",
   "execution_count": 9,
   "id": "fb6353c9",
   "metadata": {},
   "outputs": [
    {
     "name": "stdout",
     "output_type": "stream",
     "text": [
      "Enter per 80\n",
      " A grade \n"
     ]
    }
   ],
   "source": [
    "per = float ( input (\"Enter per \"))\n",
    "if per > 80 or per == 80:\n",
    "  print (\" A grade \")\n",
    "else:\n",
    "  print (\"No grade A\")"
   ]
  },
  {
   "cell_type": "code",
   "execution_count": 10,
   "id": "30e0bc70",
   "metadata": {},
   "outputs": [
    {
     "data": {
      "text/plain": [
       "False"
      ]
     },
     "execution_count": 10,
     "metadata": {},
     "output_type": "execute_result"
    }
   ],
   "source": [
    "# use syambols for operators, and (&) / or (|)\n",
    "11==10"
   ]
  },
  {
   "cell_type": "code",
   "execution_count": 11,
   "id": "1fa220ef",
   "metadata": {},
   "outputs": [
    {
     "data": {
      "text/plain": [
       "True"
      ]
     },
     "execution_count": 11,
     "metadata": {},
     "output_type": "execute_result"
    }
   ],
   "source": [
    "11!=10"
   ]
  },
  {
   "cell_type": "code",
   "execution_count": 12,
   "id": "82393a56",
   "metadata": {},
   "outputs": [],
   "source": [
    "# if a<b {\n",
    "    \n",
    "  # }"
   ]
  },
  {
   "cell_type": "code",
   "execution_count": 13,
   "id": "06229981",
   "metadata": {},
   "outputs": [
    {
     "name": "stdout",
     "output_type": "stream",
     "text": [
      "Enter per 80\n",
      " A grade \n"
     ]
    }
   ],
   "source": [
    "per = float ( input (\"Enter per \"))\n",
    "if (per > 80) | (per == 80):\n",
    "  print (\" A grade \")\n",
    "else:\n",
    "  print (\"No grade A\")"
   ]
  },
  {
   "cell_type": "code",
   "execution_count": 14,
   "id": "c5adba22",
   "metadata": {},
   "outputs": [
    {
     "name": "stdout",
     "output_type": "stream",
     "text": [
      "Enter a = 10\n",
      "Enter b = 0\n",
      "Enter + - * / /\n",
      "The value of b cannot be zero\n"
     ]
    }
   ],
   "source": [
    "# and or not\n",
    "a = int(input(\"Enter a =\"))\n",
    "b = int(input(\"Enter b = \"))\n",
    "o = input(\"Enter + - * / \")\n",
    "if o == \"+\":\n",
    "  print (a+b)\n",
    "elif o == \"-\":\n",
    "  print (a-b)\n",
    "elif o == \"*\":\n",
    "  print (a*b)\n",
    "elif (o == \"/\") & (b!=0):\n",
    "  print (a/b)\n",
    "elif (o == \"/\") & (b == 0):\n",
    "  print (\"The value of b cannot be zero\")\n",
    "else: \n",
    "  print (\"Invalid operator\")"
   ]
  },
  {
   "cell_type": "code",
   "execution_count": 16,
   "id": "bfed7462",
   "metadata": {},
   "outputs": [],
   "source": [
    "# use () when using & or |\n",
    "# do not use () when using 'and' or 'or'"
   ]
  },
  {
   "cell_type": "code",
   "execution_count": 17,
   "id": "e2fd4285",
   "metadata": {},
   "outputs": [
    {
     "data": {
      "text/plain": [
       "True"
      ]
     },
     "execution_count": 17,
     "metadata": {},
     "output_type": "execute_result"
    }
   ],
   "source": [
    "a = True \n",
    "b = True \n",
    "c = False \n",
    "\n",
    "a|b&c"
   ]
  },
  {
   "cell_type": "code",
   "execution_count": 18,
   "id": "717f2d95",
   "metadata": {},
   "outputs": [
    {
     "data": {
      "text/plain": [
       "False"
      ]
     },
     "execution_count": 18,
     "metadata": {},
     "output_type": "execute_result"
    }
   ],
   "source": [
    "a = True \n",
    "b = True \n",
    "c = False \n",
    "\n",
    "c&(a|b)"
   ]
  },
  {
   "cell_type": "code",
   "execution_count": 19,
   "id": "48445e3f",
   "metadata": {},
   "outputs": [],
   "source": [
    "#if <condition>:\n",
    "  #if <condition>:\n",
    "    #<operation>\n",
    " #else: \n",
    "    #<operation>"
   ]
  },
  {
   "cell_type": "code",
   "execution_count": 20,
   "id": "6e798a8b",
   "metadata": {},
   "outputs": [
    {
     "name": "stdout",
     "output_type": "stream",
     "text": [
      "This is nested if\n"
     ]
    }
   ],
   "source": [
    "if True:\n",
    "  if False: \n",
    "    print (\"This is if section\")\n",
    "  else: \n",
    "    print (\"This is nested if\")"
   ]
  },
  {
   "cell_type": "code",
   "execution_count": 21,
   "id": "a9a41964",
   "metadata": {},
   "outputs": [
    {
     "name": "stdout",
     "output_type": "stream",
     "text": [
      "Enter a = 10 \n",
      "Enter b =  20 \n",
      "Enter + - * / /\n",
      "0.5\n"
     ]
    }
   ],
   "source": [
    "# and or not\n",
    "a = int(input(\"Enter a =\"))\n",
    "b = int(input(\"Enter b = \"))\n",
    "o = input(\"Enter + - * / \")\n",
    "if o == \"+\":\n",
    "  print (a+b)\n",
    "elif o == \"-\":\n",
    "  print (a-b)\n",
    "elif o == \"*\":\n",
    "  print (a*b)\n",
    "elif (o == \"/\"):\n",
    "  if b!=0:\n",
    "   print (a/b)\n",
    "  else:\n",
    "     print(\"The value of b cannot be zero\")\n",
    "else: \n",
    "  print(\"Invalid operator\")"
   ]
  },
  {
   "cell_type": "code",
   "execution_count": 22,
   "id": "6054bee1",
   "metadata": {},
   "outputs": [
    {
     "name": "stdout",
     "output_type": "stream",
     "text": [
      "Enter percentage = 31\n",
      "Fail\n"
     ]
    }
   ],
   "source": [
    "# WAP to classify grade\n",
    "per = int(input(\"Enter percentage =\"))\n",
    "if per >= 70: \n",
    "  print (\"First Division\")\n",
    "elif per >= 60: \n",
    "  print (\"Second Division\")\n",
    "elif per >=50:\n",
    "  print (\"Third Division\")\n",
    "elif per >40:\n",
    "  print (\"Fourth Division\")\n",
    "elif per==40:\n",
    "  print (\"Pass\")\n",
    "else:\n",
    "  print (\"Fail\")"
   ]
  },
  {
   "cell_type": "code",
   "execution_count": null,
   "id": "f7c46abf",
   "metadata": {},
   "outputs": [],
   "source": []
  }
 ],
 "metadata": {
  "kernelspec": {
   "display_name": "Python 3 (ipykernel)",
   "language": "python",
   "name": "python3"
  },
  "language_info": {
   "codemirror_mode": {
    "name": "ipython",
    "version": 3
   },
   "file_extension": ".py",
   "mimetype": "text/x-python",
   "name": "python",
   "nbconvert_exporter": "python",
   "pygments_lexer": "ipython3",
   "version": "3.9.7"
  }
 },
 "nbformat": 4,
 "nbformat_minor": 5
}
