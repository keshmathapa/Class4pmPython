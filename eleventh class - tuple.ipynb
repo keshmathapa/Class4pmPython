{
 "cells": [
  {
   "cell_type": "code",
   "execution_count": 1,
   "id": "f82ad076",
   "metadata": {},
   "outputs": [],
   "source": [
    "#Tuple\n",
    "# - Indexed \n",
    "# - Multiple Data\n",
    "# - Ordered \n",
    "# - Imutable"
   ]
  },
  {
   "cell_type": "code",
   "execution_count": 2,
   "id": "25a3bb23",
   "metadata": {},
   "outputs": [
    {
     "name": "stdout",
     "output_type": "stream",
     "text": [
      "<class 'tuple'>\n",
      "('Apple', 'Ball', 'Cat')\n"
     ]
    }
   ],
   "source": [
    "a = (\"Apple\",\"Ball\",\"Cat\")\n",
    "print(type(a))\n",
    "print(a)"
   ]
  },
  {
   "cell_type": "code",
   "execution_count": 3,
   "id": "a1eb7588",
   "metadata": {},
   "outputs": [
    {
     "name": "stdout",
     "output_type": "stream",
     "text": [
      "Apple\n"
     ]
    }
   ],
   "source": [
    "a = (\"Apple\",\"Ball\",\"Cat\")\n",
    "print(a[0])"
   ]
  },
  {
   "cell_type": "code",
   "execution_count": 4,
   "id": "a96af0e4",
   "metadata": {},
   "outputs": [
    {
     "name": "stdout",
     "output_type": "stream",
     "text": [
      "Cat\n"
     ]
    }
   ],
   "source": [
    "a = (\"Apple\",\"Ball\",\"Cat\")\n",
    "print(a[2])"
   ]
  },
  {
   "cell_type": "code",
   "execution_count": 6,
   "id": "3208d48a",
   "metadata": {},
   "outputs": [
    {
     "name": "stdout",
     "output_type": "stream",
     "text": [
      "(1, 2, 3, 4)\n",
      "(1, 3, 5, 7, 9)\n"
     ]
    }
   ],
   "source": [
    "a = (1,2,3,4,5,6,7,8,9,10)\n",
    "print(a[0:4])\n",
    "print(a[0:9:2])"
   ]
  },
  {
   "cell_type": "code",
   "execution_count": 7,
   "id": "ff5cb9be",
   "metadata": {},
   "outputs": [
    {
     "data": {
      "text/plain": [
       "('Apple', 'Ball', 'Cat', 'Dog', 'Fish')"
      ]
     },
     "execution_count": 7,
     "metadata": {},
     "output_type": "execute_result"
    }
   ],
   "source": [
    "# concatenation\n",
    "a = (\"Apple\",\"Ball\",\"Cat\")\n",
    "b = (\"Dog\",\"Fish\")\n",
    "c = a+b\n",
    "c"
   ]
  },
  {
   "cell_type": "code",
   "execution_count": 8,
   "id": "7027fb43",
   "metadata": {},
   "outputs": [
    {
     "name": "stdout",
     "output_type": "stream",
     "text": [
      "('Apple', 'Ball', 'Cat', 'Apple', 'Ball', 'Cat')\n"
     ]
    }
   ],
   "source": [
    "a = (\"Apple\",\"Ball\",\"Cat\")\n",
    "print(a*2)"
   ]
  },
  {
   "cell_type": "code",
   "execution_count": 10,
   "id": "45bfcba9",
   "metadata": {},
   "outputs": [
    {
     "data": {
      "text/plain": [
       "tuple"
      ]
     },
     "execution_count": 10,
     "metadata": {},
     "output_type": "execute_result"
    }
   ],
   "source": [
    "# differences\n",
    "a = (\"Apple\",\"Ball\")\n",
    "type(a)"
   ]
  },
  {
   "cell_type": "code",
   "execution_count": 11,
   "id": "9fbd6080",
   "metadata": {},
   "outputs": [
    {
     "data": {
      "text/plain": [
       "str"
      ]
     },
     "execution_count": 11,
     "metadata": {},
     "output_type": "execute_result"
    }
   ],
   "source": [
    "a = (\"Apple\")\n",
    "type(a)"
   ]
  },
  {
   "cell_type": "code",
   "execution_count": 12,
   "id": "bfd3e2bc",
   "metadata": {},
   "outputs": [
    {
     "data": {
      "text/plain": [
       "int"
      ]
     },
     "execution_count": 12,
     "metadata": {},
     "output_type": "execute_result"
    }
   ],
   "source": [
    "a = (1)\n",
    "type(a)"
   ]
  },
  {
   "cell_type": "code",
   "execution_count": 13,
   "id": "089968a3",
   "metadata": {},
   "outputs": [],
   "source": [
    "# tuple - static data - generally data that cannot be changed\n",
    "# often changed in list\n",
    "# NO append() extend() insert()\n",
    "# NO update() del() remove() pop()"
   ]
  },
  {
   "cell_type": "code",
   "execution_count": 15,
   "id": "7fd496f3",
   "metadata": {},
   "outputs": [
    {
     "name": "stdout",
     "output_type": "stream",
     "text": [
      "Enter n = 2\n",
      "Enter x = Hello\n",
      "Enter x = World\n",
      "('Hello', 'World')\n"
     ]
    }
   ],
   "source": [
    "t = tuple()\n",
    "n = int(input(\"Enter n = \"))\n",
    "for i in range(n):\n",
    "    x = input(\"Enter x = \")\n",
    "    t = t+(x,)\n",
    "print(t)    "
   ]
  },
  {
   "cell_type": "code",
   "execution_count": 16,
   "id": "e88a6971",
   "metadata": {},
   "outputs": [
    {
     "data": {
      "text/plain": [
       "['Apple', 'Ball', 'Cat', 'Dog', 'Fish']"
      ]
     },
     "execution_count": 16,
     "metadata": {},
     "output_type": "execute_result"
    }
   ],
   "source": [
    "a = ('Apple', 'Ball', 'Cat', 'Dog', 'Fish')\n",
    "a = list (a)\n",
    "a"
   ]
  },
  {
   "cell_type": "code",
   "execution_count": 17,
   "id": "96ce9b74",
   "metadata": {},
   "outputs": [
    {
     "data": {
      "text/plain": [
       "('Apple', 'Ball', 'Cat', 'Dog', 'Fish')"
      ]
     },
     "execution_count": 17,
     "metadata": {},
     "output_type": "execute_result"
    }
   ],
   "source": [
    "a = ['Apple', 'Ball', 'Cat', 'Dog', 'Fish']\n",
    "a = tuple(a)\n",
    "a"
   ]
  },
  {
   "cell_type": "code",
   "execution_count": 18,
   "id": "292b95dd",
   "metadata": {},
   "outputs": [
    {
     "name": "stdout",
     "output_type": "stream",
     "text": [
      "Sum =  7678\n",
      "Max value =  6789\n",
      "Min value =  23\n"
     ]
    }
   ],
   "source": [
    "a = (123,345,6789,23,45,353)\n",
    "print(\"Sum = \",sum(a))\n",
    "print(\"Max value = \",max(a))\n",
    "print(\"Min value = \",min(a))"
   ]
  },
  {
   "cell_type": "code",
   "execution_count": 19,
   "id": "f8577d55",
   "metadata": {},
   "outputs": [
    {
     "data": {
      "text/plain": [
       "[23, 45, 123, 345, 353, 6789]"
      ]
     },
     "execution_count": 19,
     "metadata": {},
     "output_type": "execute_result"
    }
   ],
   "source": [
    "a = (123,345,6789,23,45,353)\n",
    "sorted(a)"
   ]
  },
  {
   "cell_type": "code",
   "execution_count": 20,
   "id": "ac23144b",
   "metadata": {},
   "outputs": [
    {
     "name": "stdout",
     "output_type": "stream",
     "text": [
      "[23, 45, 123, 345, 353, 6789]\n",
      "(123, 345, 6789, 23, 45, 353)\n"
     ]
    }
   ],
   "source": [
    "a = (123,345,6789,23,45,353)\n",
    "print(sorted(a))\n",
    "print(a)"
   ]
  },
  {
   "cell_type": "code",
   "execution_count": 22,
   "id": "c7195125",
   "metadata": {},
   "outputs": [
    {
     "data": {
      "text/plain": [
       "[23, 45, 123, 345, 353, 6789]"
      ]
     },
     "execution_count": 22,
     "metadata": {},
     "output_type": "execute_result"
    }
   ],
   "source": [
    "a = [123,345,6789,23,45,353]\n",
    "a.sort()\n",
    "a"
   ]
  },
  {
   "cell_type": "code",
   "execution_count": 23,
   "id": "dd0c0b37",
   "metadata": {},
   "outputs": [
    {
     "name": "stdout",
     "output_type": "stream",
     "text": [
      "(1, 2, 3, 4, 5, 6)\n"
     ]
    }
   ],
   "source": [
    "a = 1,2,3,4,5,6\n",
    "print(a)"
   ]
  },
  {
   "cell_type": "code",
   "execution_count": 24,
   "id": "02a70938",
   "metadata": {},
   "outputs": [
    {
     "name": "stdout",
     "output_type": "stream",
     "text": [
      "(20, 40)\n"
     ]
    }
   ],
   "source": [
    "def cal():\n",
    "    l = 5\n",
    "    b = 4\n",
    "    h = 2\n",
    "    a = l*b\n",
    "    v = a*h\n",
    "    return a,v\n",
    "\n",
    "print(cal())"
   ]
  },
  {
   "cell_type": "code",
   "execution_count": 26,
   "id": "21c349ea",
   "metadata": {},
   "outputs": [
    {
     "name": "stdout",
     "output_type": "stream",
     "text": [
      "('Apple', 'Ball', 'Dog', 'Fish')\n"
     ]
    }
   ],
   "source": [
    "#slicing\n",
    "a = ('Apple', 'Ball', 'Cat', 'Dog', 'Fish')\n",
    "b = a[0:2]\n",
    "c = a[3:]\n",
    "d = b+c\n",
    "print(d)"
   ]
  },
  {
   "cell_type": "code",
   "execution_count": 27,
   "id": "aa2b27f0",
   "metadata": {},
   "outputs": [
    {
     "data": {
      "text/plain": [
       "('Apple', 'Ball', 'cat', 'Dog', 'Fish')"
      ]
     },
     "execution_count": 27,
     "metadata": {},
     "output_type": "execute_result"
    }
   ],
   "source": [
    "a = ('Apple', 'Ball', 'Cat', 'Dog', 'Fish')\n",
    "b = a[0:2]\n",
    "c = a[3:]\n",
    "d = (\"cat\",)\n",
    "r = b+d+c\n",
    "r"
   ]
  },
  {
   "cell_type": "code",
   "execution_count": 28,
   "id": "41b6ae39",
   "metadata": {},
   "outputs": [
    {
     "name": "stdout",
     "output_type": "stream",
     "text": [
      "<class 'tuple'>\n"
     ]
    }
   ],
   "source": [
    "# tuple inside tuple \n",
    "# a = (())\n",
    "a = ((1,2,3),(4,5,6),(7,8,9))\n",
    "print(type(a))"
   ]
  },
  {
   "cell_type": "code",
   "execution_count": 29,
   "id": "c43389bb",
   "metadata": {},
   "outputs": [
    {
     "name": "stdout",
     "output_type": "stream",
     "text": [
      "(('Ram', 34, 'Kathmandu'), ('Shyam', 78, 'Patan'), ('Hari', 23, 'Bara'))\n"
     ]
    }
   ],
   "source": [
    "a = ((\"Ram\",34,\"Kathmandu\"),\n",
    "     (\"Shyam\",78,\"Patan\"),\n",
    "     (\"Hari\",23,\"Bara\"))\n",
    "print(a)"
   ]
  },
  {
   "cell_type": "code",
   "execution_count": 30,
   "id": "ac17664f",
   "metadata": {},
   "outputs": [
    {
     "name": "stdout",
     "output_type": "stream",
     "text": [
      "('Ram', 34, 'Kathmandu')\n"
     ]
    }
   ],
   "source": [
    "print(a[0])"
   ]
  },
  {
   "cell_type": "code",
   "execution_count": 31,
   "id": "3275160a",
   "metadata": {},
   "outputs": [
    {
     "name": "stdout",
     "output_type": "stream",
     "text": [
      "('Ram', 34, 'Kathmandu')\n",
      "('Shyam', 78, 'Patan')\n",
      "('Hari', 23, 'Bara')\n"
     ]
    }
   ],
   "source": [
    "for i in a:\n",
    "    print(i)"
   ]
  },
  {
   "cell_type": "code",
   "execution_count": 33,
   "id": "aaed1140",
   "metadata": {},
   "outputs": [
    {
     "name": "stdout",
     "output_type": "stream",
     "text": [
      "('Ram', 34, 'Kathmandu')\n"
     ]
    }
   ],
   "source": [
    "a = ((\"Ram\",34,\"Kathmandu\"),\n",
    "     (\"Shyam\",78,\"Patan\"),\n",
    "     (\"Hari\",23,\"Bara\"))\n",
    "for i in a:\n",
    "    if \"Ram\" in i:\n",
    "        print(i)        "
   ]
  },
  {
   "cell_type": "code",
   "execution_count": 36,
   "id": "c87b9489",
   "metadata": {},
   "outputs": [
    {
     "name": "stdout",
     "output_type": "stream",
     "text": [
      "Enter n = 2\n",
      "Enter name = Ram\n",
      "Enter age = 34\n",
      "Enter add = Kathmandu\n",
      "Enter name = Shyam\n",
      "Enter age = 56\n",
      "Enter add = Patan\n",
      "(('Ram', 34, 'Kathmandu'), ('Shyam', 56, 'Patan'))\n"
     ]
    }
   ],
   "source": [
    "info = tuple()\n",
    "n = int(input(\"Enter n = \"))\n",
    "for i in range(n):\n",
    "    name = input(\"Enter name = \")\n",
    "    age = int(input(\"Enter age = \"))\n",
    "    add = input(\"Enter add = \")\n",
    "    info = info + ((name,age,add),)\n",
    "    \n",
    "print(info)"
   ]
  },
  {
   "cell_type": "code",
   "execution_count": 37,
   "id": "6b1cf4d5",
   "metadata": {},
   "outputs": [
    {
     "data": {
      "text/plain": [
       "[('Ram', 34, 'Kathmandu'), ('Shyam', 56, 'Patan')]"
      ]
     },
     "execution_count": 37,
     "metadata": {},
     "output_type": "execute_result"
    }
   ],
   "source": [
    "a = (('Ram', 34, 'Kathmandu'), ('Shyam', 56, 'Patan'))\n",
    "b = list(a)\n",
    "b"
   ]
  },
  {
   "cell_type": "code",
   "execution_count": 38,
   "id": "822a5684",
   "metadata": {},
   "outputs": [
    {
     "name": "stdout",
     "output_type": "stream",
     "text": [
      "[['Ram', 34, 'Kathmandu'], ['Shyam', 56, 'Patan']]\n"
     ]
    }
   ],
   "source": [
    "b = list()\n",
    "a = (('Ram', 34, 'Kathmandu'), ('Shyam', 56, 'Patan'))\n",
    "for i in a:\n",
    "    b.append(list(i))\n",
    "    \n",
    "print(b)"
   ]
  },
  {
   "cell_type": "code",
   "execution_count": null,
   "id": "a4c27a11",
   "metadata": {},
   "outputs": [],
   "source": [
    "# WAP to create a matrix \n",
    "#(list inside list)&(tuple inside tuple)"
   ]
  }
 ],
 "metadata": {
  "kernelspec": {
   "display_name": "Python 3 (ipykernel)",
   "language": "python",
   "name": "python3"
  },
  "language_info": {
   "codemirror_mode": {
    "name": "ipython",
    "version": 3
   },
   "file_extension": ".py",
   "mimetype": "text/x-python",
   "name": "python",
   "nbconvert_exporter": "python",
   "pygments_lexer": "ipython3",
   "version": "3.9.7"
  }
 },
 "nbformat": 4,
 "nbformat_minor": 5
}
