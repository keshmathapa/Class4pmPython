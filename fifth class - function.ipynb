{
 "cells": [
  {
   "cell_type": "code",
   "execution_count": 1,
   "id": "0a32cb12",
   "metadata": {},
   "outputs": [],
   "source": [
    "# def <function_name>:\n",
    "#     <operations>\n",
    "\n",
    "#<function_name>()"
   ]
  },
  {
   "cell_type": "code",
   "execution_count": 2,
   "id": "75694a85",
   "metadata": {},
   "outputs": [
    {
     "name": "stdout",
     "output_type": "stream",
     "text": [
      "10\n"
     ]
    }
   ],
   "source": [
    "a = 10\n",
    "print (a)"
   ]
  },
  {
   "cell_type": "code",
   "execution_count": null,
   "id": "8f1f3f7f",
   "metadata": {},
   "outputs": [],
   "source": [
    "# pre defined fuctions - print() int() str() float() type()"
   ]
  },
  {
   "cell_type": "code",
   "execution_count": 3,
   "id": "bd1cb3d8",
   "metadata": {},
   "outputs": [
    {
     "name": "stdout",
     "output_type": "stream",
     "text": [
      "Hello World\n"
     ]
    }
   ],
   "source": [
    "def hello():\n",
    "    print (\"Hello World\")\n",
    "    \n",
    "    \n",
    "hello()"
   ]
  },
  {
   "cell_type": "code",
   "execution_count": 8,
   "id": "80d4ea7f",
   "metadata": {},
   "outputs": [
    {
     "name": "stdout",
     "output_type": "stream",
     "text": [
      "Enter l = 34\n",
      "Enter b = 3\n",
      "102\n"
     ]
    }
   ],
   "source": [
    "def cal():\n",
    "    l = int(input(\"Enter l = \")) #local variable \n",
    "    b = int(input(\"Enter b = \")) #local variable\n",
    "    a = l*b\n",
    "    print (a)\n",
    "    \n",
    "cal()"
   ]
  },
  {
   "cell_type": "code",
   "execution_count": 9,
   "id": "f1628b42",
   "metadata": {},
   "outputs": [
    {
     "name": "stdout",
     "output_type": "stream",
     "text": [
      "Enter l = 20\n",
      "Enter b = 12\n",
      "240\n"
     ]
    }
   ],
   "source": [
    "l = int(input(\"Enter l = \")) #global variable \n",
    "b = int(input(\"Enter b = \")) #global variable\n",
    "\n",
    "def cal():\n",
    "    a = l*b\n",
    "    print (a)\n",
    "    \n",
    "cal()"
   ]
  },
  {
   "cell_type": "code",
   "execution_count": 11,
   "id": "ecb16a38",
   "metadata": {},
   "outputs": [
    {
     "name": "stdout",
     "output_type": "stream",
     "text": [
      "Enter l = 200\n",
      "Enter b = 23\n",
      "4600\n",
      "200 23\n"
     ]
    }
   ],
   "source": [
    "def cal():\n",
    "    global l,b\n",
    "    l = int(input(\"Enter l = \")) #global variable\n",
    "    b = int(input(\"Enter b = \")) #global variable\n",
    "    a = l*b\n",
    "    print (a)\n",
    "    \n",
    "cal()\n",
    "print (l,b)"
   ]
  },
  {
   "cell_type": "code",
   "execution_count": 12,
   "id": "e69c001e",
   "metadata": {},
   "outputs": [
    {
     "name": "stdout",
     "output_type": "stream",
     "text": [
      "2000\n"
     ]
    }
   ],
   "source": [
    "# function with argument\n",
    "\n",
    "def area (l,b):\n",
    "    a = l*b\n",
    "    print (a)\n",
    "\n",
    "area(100,20)"
   ]
  },
  {
   "cell_type": "code",
   "execution_count": 14,
   "id": "8178bcf3",
   "metadata": {},
   "outputs": [
    {
     "name": "stdout",
     "output_type": "stream",
     "text": [
      "Enter l = 100\n",
      "Enter b = 40\n",
      "4000\n"
     ]
    }
   ],
   "source": [
    "def area (l,b):\n",
    "    a = l*b\n",
    "    print (a)\n",
    "    \n",
    "l = int(input(\"Enter l = \"))\n",
    "b = int(input(\"Enter b = \"))\n",
    "area(l,b)"
   ]
  },
  {
   "cell_type": "code",
   "execution_count": 15,
   "id": "d63ae84c",
   "metadata": {},
   "outputs": [
    {
     "name": "stdout",
     "output_type": "stream",
     "text": [
      "Enter l = 10\n",
      "Enter b = 12\n",
      "120\n"
     ]
    }
   ],
   "source": [
    "def area (x,y):\n",
    "    a = x*y\n",
    "    print (a)\n",
    "    \n",
    "l = int(input(\"Enter l = \"))\n",
    "b = int(input(\"Enter b = \"))\n",
    "area(l,b)"
   ]
  },
  {
   "cell_type": "code",
   "execution_count": 17,
   "id": "90bee020",
   "metadata": {},
   "outputs": [
    {
     "name": "stdout",
     "output_type": "stream",
     "text": [
      "Php\n",
      "C++\n",
      "C\n",
      "Java\n",
      "Python\n"
     ]
    }
   ],
   "source": [
    "def language(lan = \"Python\"):\n",
    "    print(lan)\n",
    "    \n",
    "language(\"Php\")\n",
    "language(\"C++\")\n",
    "language(\"C\")\n",
    "language(\"Java\")\n",
    "language()"
   ]
  },
  {
   "cell_type": "code",
   "execution_count": 18,
   "id": "859d41bf",
   "metadata": {},
   "outputs": [
    {
     "data": {
      "text/plain": [
       "'Hello World'"
      ]
     },
     "execution_count": 18,
     "metadata": {},
     "output_type": "execute_result"
    }
   ],
   "source": [
    "def hello():\n",
    "    x = \"Hello World\"\n",
    "    return x\n",
    "\n",
    "hello()"
   ]
  },
  {
   "cell_type": "code",
   "execution_count": 19,
   "id": "ce341e54",
   "metadata": {},
   "outputs": [
    {
     "name": "stdout",
     "output_type": "stream",
     "text": [
      "Hello World\n"
     ]
    }
   ],
   "source": [
    "# Return Type Function\n",
    "\n",
    "def hello():\n",
    "    x = \"Hello World\"\n",
    "    return x\n",
    "\n",
    "print(hello())"
   ]
  },
  {
   "cell_type": "code",
   "execution_count": 21,
   "id": "5bb376e3",
   "metadata": {},
   "outputs": [
    {
     "name": "stdout",
     "output_type": "stream",
     "text": [
      "Enter l = 30\n",
      "Enter b = 3\n",
      "90\n"
     ]
    }
   ],
   "source": [
    "def cal():\n",
    "    l = int(input(\"Enter l = \"))\n",
    "    b = int(input(\"Enter b = \"))\n",
    "    a = l*b\n",
    "    return a\n",
    "\n",
    "area = cal()\n",
    "print(area) "
   ]
  },
  {
   "cell_type": "code",
   "execution_count": 2,
   "id": "d52318ae",
   "metadata": {},
   "outputs": [
    {
     "name": "stdout",
     "output_type": "stream",
     "text": [
      "Enter l = 10\n",
      "Enter b = 6\n",
      "Enter h = 2\n",
      "60\n",
      "The volume =  120\n"
     ]
    }
   ],
   "source": [
    "# Function with argument and return type\n",
    "\n",
    "def cal (l,b):\n",
    "    a = l*b\n",
    "    return a\n",
    "\n",
    "def volume (l,b,h):\n",
    "    v = cal(l,b)*h\n",
    "    return v\n",
    "\n",
    "l = int(input(\"Enter l = \"))\n",
    "b = int(input(\"Enter b = \"))\n",
    "h = int(input(\"Enter h = \"))\n",
    "area = cal(l,b)\n",
    "print(area)\n",
    "print(\"The volume = \",volume(l,b,h)) "
   ]
  },
  {
   "cell_type": "code",
   "execution_count": 22,
   "id": "15f5459f",
   "metadata": {},
   "outputs": [
    {
     "name": "stdout",
     "output_type": "stream",
     "text": [
      "Enter l = 20\n",
      "Enter b = 6\n",
      "120\n",
      "Enter h = 3\n",
      "The Volume =  360\n"
     ]
    }
   ],
   "source": [
    "# Return type fucntion\n",
    "\n",
    "def cal():\n",
    "    l = int(input(\"Enter l = \"))\n",
    "    b = int(input(\"Enter b = \"))\n",
    "    a = l*b\n",
    "    return a\n",
    "\n",
    "area = cal()\n",
    "print(area) \n",
    "h = int(input(\"Enter h = \"))\n",
    "v = area*h\n",
    "print (\"The Volume = \",v)"
   ]
  },
  {
   "cell_type": "code",
   "execution_count": 3,
   "id": "871835ad",
   "metadata": {},
   "outputs": [
    {
     "name": "stdout",
     "output_type": "stream",
     "text": [
      "Enter l = 12\n",
      "Enter b = 3\n",
      "Enter h = 4\n",
      "The volume =  144\n"
     ]
    }
   ],
   "source": [
    "def cal (l,b):\n",
    "    a = l*b\n",
    "    return a\n",
    "\n",
    "def volume (l,b,h):\n",
    "    v = cal(l,b)*h\n",
    "    return v\n",
    "\n",
    "l = int(input(\"Enter l = \"))\n",
    "b = int(input(\"Enter b = \"))\n",
    "h = int(input(\"Enter h = \"))\n",
    "\n",
    "print(\"The volume = \",volume(l,b,h)) "
   ]
  },
  {
   "cell_type": "code",
   "execution_count": 8,
   "id": "211327cb",
   "metadata": {},
   "outputs": [
    {
     "name": "stdout",
     "output_type": "stream",
     "text": [
      "Enter l = 100\n",
      "Enter b = 34\n",
      "Enter h = 2\n",
      "(3400, 6800)\n",
      "The area =  3400\n",
      "The volume =  6800\n"
     ]
    }
   ],
   "source": [
    "def cal (l,b,h):\n",
    "    a = l*b\n",
    "    v = a*h\n",
    "    return a,v\n",
    "\n",
    "l = int(input(\"Enter l = \"))\n",
    "b = int(input(\"Enter b = \"))\n",
    "h = int(input(\"Enter h = \"))\n",
    "x = cal(l,b,h)\n",
    "print(x)\n",
    "area, volume = x\n",
    "print (\"The area = \",area)\n",
    "print (\"The volume = \", volume)"
   ]
  },
  {
   "cell_type": "code",
   "execution_count": 5,
   "id": "ecdff695",
   "metadata": {},
   "outputs": [
    {
     "name": "stdout",
     "output_type": "stream",
     "text": [
      "400 800\n"
     ]
    }
   ],
   "source": [
    "x,y = (400,800)\n",
    "print(x,y)"
   ]
  },
  {
   "cell_type": "code",
   "execution_count": 1,
   "id": "02039891",
   "metadata": {},
   "outputs": [
    {
     "name": "stdout",
     "output_type": "stream",
     "text": [
      "3.141592653589793\n"
     ]
    }
   ],
   "source": [
    "import math as m\n",
    "print(m.pi)"
   ]
  },
  {
   "cell_type": "code",
   "execution_count": 2,
   "id": "da86b4a4",
   "metadata": {},
   "outputs": [
    {
     "name": "stdout",
     "output_type": "stream",
     "text": [
      "2.718281828459045\n"
     ]
    }
   ],
   "source": [
    "import math as m\n",
    "print(m.e)"
   ]
  },
  {
   "cell_type": "code",
   "execution_count": 3,
   "id": "51a7022e",
   "metadata": {},
   "outputs": [
    {
     "data": {
      "text/plain": [
       "1.0"
      ]
     },
     "execution_count": 3,
     "metadata": {},
     "output_type": "execute_result"
    }
   ],
   "source": [
    "a = m.pi/2\n",
    "m.sin(a)"
   ]
  },
  {
   "cell_type": "code",
   "execution_count": 4,
   "id": "7dc9dbe8",
   "metadata": {},
   "outputs": [
    {
     "data": {
      "text/plain": [
       "6.123233995736766e-17"
      ]
     },
     "execution_count": 4,
     "metadata": {},
     "output_type": "execute_result"
    }
   ],
   "source": [
    "a = m.pi/2\n",
    "m.cos(a)"
   ]
  },
  {
   "cell_type": "code",
   "execution_count": 5,
   "id": "99f7e473",
   "metadata": {},
   "outputs": [
    {
     "data": {
      "text/plain": [
       "120"
      ]
     },
     "execution_count": 5,
     "metadata": {},
     "output_type": "execute_result"
    }
   ],
   "source": [
    "import math as m\n",
    "m.factorial(5)"
   ]
  },
  {
   "cell_type": "code",
   "execution_count": 6,
   "id": "cd2e15bc",
   "metadata": {},
   "outputs": [
    {
     "data": {
      "text/plain": [
       "3.321928094887362"
      ]
     },
     "execution_count": 6,
     "metadata": {},
     "output_type": "execute_result"
    }
   ],
   "source": [
    "m.log2(10)"
   ]
  },
  {
   "cell_type": "code",
   "execution_count": 7,
   "id": "e85a2593",
   "metadata": {},
   "outputs": [
    {
     "name": "stdout",
     "output_type": "stream",
     "text": [
      "Enter r = 7\n",
      "153.93804002589985\n"
     ]
    }
   ],
   "source": [
    "r = int(input(\"Enter r = \"))\n",
    "a = m.pi*m.pow(r,2)\n",
    "print(a)"
   ]
  },
  {
   "cell_type": "code",
   "execution_count": 8,
   "id": "51507749",
   "metadata": {},
   "outputs": [
    {
     "data": {
      "text/plain": [
       "1.0"
      ]
     },
     "execution_count": 8,
     "metadata": {},
     "output_type": "execute_result"
    }
   ],
   "source": [
    "a = m.pi/2\n",
    "m.pow(m.sin(a),2) + m.pow(m.cos(a),2)"
   ]
  },
  {
   "cell_type": "code",
   "execution_count": null,
   "id": "924920ad",
   "metadata": {},
   "outputs": [],
   "source": []
  }
 ],
 "metadata": {
  "kernelspec": {
   "display_name": "Python 3 (ipykernel)",
   "language": "python",
   "name": "python3"
  },
  "language_info": {
   "codemirror_mode": {
    "name": "ipython",
    "version": 3
   },
   "file_extension": ".py",
   "mimetype": "text/x-python",
   "name": "python",
   "nbconvert_exporter": "python",
   "pygments_lexer": "ipython3",
   "version": "3.9.7"
  }
 },
 "nbformat": 4,
 "nbformat_minor": 5
}
