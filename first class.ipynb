{
 "cells": [
  {
   "cell_type": "code",
   "execution_count": 3,
   "id": "60a49a83",
   "metadata": {},
   "outputs": [
    {
     "name": "stdout",
     "output_type": "stream",
     "text": [
      "10\n",
      "11.5\n",
      "hello world\n",
      "True\n",
      "(3+3j)\n",
      "10 11.5 hello world True (3+3j)\n"
     ]
    }
   ],
   "source": [
    "a=10\n",
    "b=11.5\n",
    "c=\"hello world\"\n",
    "d=True \n",
    "e=3+3j\n",
    "\n",
    "print (a)\n",
    "print (b)\n",
    "print (c)\n",
    "print (d)\n",
    "print (e)\n",
    "\n",
    "print (a,b,c,d,e)"
   ]
  },
  {
   "cell_type": "code",
   "execution_count": 6,
   "id": "c4417027",
   "metadata": {},
   "outputs": [
    {
     "name": "stdout",
     "output_type": "stream",
     "text": [
      "<class 'int'>\n",
      "<class 'float'>\n",
      "<class 'str'>\n",
      "<class 'bool'>\n",
      "<class 'complex'>\n"
     ]
    }
   ],
   "source": [
    "print (type (a))\n",
    "print (type (b))\n",
    "print (type (c))\n",
    "print (type (d))\n",
    "print (type (e))"
   ]
  },
  {
   "cell_type": "code",
   "execution_count": 4,
   "id": "2729b977",
   "metadata": {},
   "outputs": [],
   "source": [
    "# + - * / //(double divide / value is given in integer) **(to the power) % (remainder) \n",
    "# also shift+enter to run the code"
   ]
  },
  {
   "cell_type": "code",
   "execution_count": 18,
   "id": "d4f2b9c6",
   "metadata": {},
   "outputs": [
    {
     "name": "stdout",
     "output_type": "stream",
     "text": [
      "3\n"
     ]
    }
   ],
   "source": [
    "a=10\n",
    "b=3\n",
    "c=a//b\n",
    "print (c)"
   ]
  },
  {
   "cell_type": "code",
   "execution_count": 19,
   "id": "b7488a47",
   "metadata": {},
   "outputs": [
    {
     "name": "stdout",
     "output_type": "stream",
     "text": [
      "125\n"
     ]
    }
   ],
   "source": [
    "a=5\n",
    "b=3\n",
    "c=a**b\n",
    "print(c)"
   ]
  },
  {
   "cell_type": "code",
   "execution_count": 20,
   "id": "b20242f2",
   "metadata": {},
   "outputs": [
    {
     "name": "stdout",
     "output_type": "stream",
     "text": [
      "2\n"
     ]
    }
   ],
   "source": [
    "a=5\n",
    "b=3\n",
    "c=a%b\n",
    "print(c)"
   ]
  },
  {
   "cell_type": "code",
   "execution_count": 21,
   "id": "a15cc38c",
   "metadata": {},
   "outputs": [],
   "source": []
  },
  {
   "cell_type": "code",
   "execution_count": 16,
   "id": "21e47586",
   "metadata": {},
   "outputs": [
    {
     "name": "stdout",
     "output_type": "stream",
     "text": [
      "hello world\n"
     ]
    }
   ],
   "source": [
    "a=\"hello \"\n",
    "b=\"world\"\n",
    "c=a+b\n",
    "print (c)"
   ]
  },
  {
   "cell_type": "code",
   "execution_count": 23,
   "id": "ab7fcf80",
   "metadata": {},
   "outputs": [
    {
     "name": "stdout",
     "output_type": "stream",
     "text": [
      "hello world\n",
      "hello world\n",
      "\n"
     ]
    }
   ],
   "source": [
    "a=\"hello world\\n\"\n",
    "print (a*2)"
   ]
  },
  {
   "cell_type": "code",
   "execution_count": 5,
   "id": "e804eea1",
   "metadata": {},
   "outputs": [
    {
     "name": "stdout",
     "output_type": "stream",
     "text": [
      "30\n"
     ]
    }
   ],
   "source": [
    "a=10\n",
    "b=20\n",
    "c=a+b\n",
    "print (c)"
   ]
  },
  {
   "cell_type": "code",
   "execution_count": 26,
   "id": "43fd044a",
   "metadata": {},
   "outputs": [
    {
     "name": "stdout",
     "output_type": "stream",
     "text": [
      "1020\n"
     ]
    }
   ],
   "source": [
    "a=\"10\"\n",
    "b=\"20\"\n",
    "c=a+b\n",
    "print (c)"
   ]
  },
  {
   "cell_type": "code",
   "execution_count": 27,
   "id": "851d9418",
   "metadata": {},
   "outputs": [],
   "source": [
    "# note if it is string or integer, the difference is \"\""
   ]
  },
  {
   "cell_type": "code",
   "execution_count": 28,
   "id": "b9edde5f",
   "metadata": {},
   "outputs": [
    {
     "name": "stdout",
     "output_type": "stream",
     "text": [
      "1\n"
     ]
    }
   ],
   "source": [
    "a = True \n",
    "b = False \n",
    "print (a+b)\n"
   ]
  },
  {
   "cell_type": "code",
   "execution_count": 29,
   "id": "285e108d",
   "metadata": {},
   "outputs": [
    {
     "name": "stdout",
     "output_type": "stream",
     "text": [
      "2\n"
     ]
    }
   ],
   "source": [
    "a=True \n",
    "b=True \n",
    "print (a+b)"
   ]
  },
  {
   "cell_type": "code",
   "execution_count": 31,
   "id": "4d84c093",
   "metadata": {},
   "outputs": [
    {
     "name": "stdout",
     "output_type": "stream",
     "text": [
      "True\n"
     ]
    }
   ],
   "source": [
    "a = True\n",
    "print (a)"
   ]
  },
  {
   "cell_type": "code",
   "execution_count": 33,
   "id": "186f04f5",
   "metadata": {},
   "outputs": [
    {
     "name": "stdout",
     "output_type": "stream",
     "text": [
      "(-21+33j)\n"
     ]
    }
   ],
   "source": [
    "a=3+3j\n",
    "b=2+9j\n",
    "print (a*b)"
   ]
  },
  {
   "cell_type": "code",
   "execution_count": 34,
   "id": "290de54c",
   "metadata": {},
   "outputs": [
    {
     "name": "stdout",
     "output_type": "stream",
     "text": [
      "10\n"
     ]
    }
   ],
   "source": [
    "print (j)"
   ]
  },
  {
   "cell_type": "code",
   "execution_count": 1,
   "id": "dd00d4e7",
   "metadata": {},
   "outputs": [
    {
     "name": "stdout",
     "output_type": "stream",
     "text": [
      "Enter a = 10\n",
      "Enter b = 20\n",
      "30\n"
     ]
    }
   ],
   "source": [
    "a = int(input (\"Enter a = \"))\n",
    "b = int(input (\"Enter b = \"))\n",
    "c = a+b\n",
    "print (c)"
   ]
  },
  {
   "cell_type": "code",
   "execution_count": 6,
   "id": "7dbd47cf",
   "metadata": {},
   "outputs": [
    {
     "name": "stdout",
     "output_type": "stream",
     "text": [
      "Enter p = 10000\n",
      "Enter t = 3\n",
      "Enter r = 4\n",
      "The value of i = 1200.0\n"
     ]
    }
   ],
   "source": [
    "p = float (input(\"Enter p = \"))\n",
    "t = float (input(\"Enter t = \"))\n",
    "r = float (input(\"Enter r = \"))\n",
    "i = p*t*r/100\n",
    "print (\"The value of i =\" ,i)"
   ]
  },
  {
   "cell_type": "code",
   "execution_count": 3,
   "id": "ab24a19f",
   "metadata": {},
   "outputs": [],
   "source": [
    "# int gives integer value, float gives decimal value"
   ]
  },
  {
   "cell_type": "code",
   "execution_count": null,
   "id": "902a9c30",
   "metadata": {},
   "outputs": [],
   "source": []
  }
 ],
 "metadata": {
  "kernelspec": {
   "display_name": "Python 3 (ipykernel)",
   "language": "python",
   "name": "python3"
  },
  "language_info": {
   "codemirror_mode": {
    "name": "ipython",
    "version": 3
   },
   "file_extension": ".py",
   "mimetype": "text/x-python",
   "name": "python",
   "nbconvert_exporter": "python",
   "pygments_lexer": "ipython3",
   "version": "3.9.7"
  }
 },
 "nbformat": 4,
 "nbformat_minor": 5
}
