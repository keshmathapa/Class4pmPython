{
 "cells": [
  {
   "cell_type": "code",
   "execution_count": 1,
   "id": "f9f9a0ef",
   "metadata": {},
   "outputs": [],
   "source": [
    "# execute the same code multiple times"
   ]
  },
  {
   "cell_type": "code",
   "execution_count": 2,
   "id": "a2eb76c4",
   "metadata": {},
   "outputs": [],
   "source": [
    "# for loop \n",
    "# while loop"
   ]
  },
  {
   "cell_type": "code",
   "execution_count": 3,
   "id": "8de10f5e",
   "metadata": {},
   "outputs": [],
   "source": [
    "# range ()\n",
    "# range (5) # for (i = 0; i<5; i++)\n",
    "# range (1,5) # for (i=1; i<5; i++)\n",
    "# range (1,5,2) # for (i=1; i<5; i=i+2)"
   ]
  },
  {
   "cell_type": "code",
   "execution_count": 4,
   "id": "398184e8",
   "metadata": {},
   "outputs": [
    {
     "name": "stdout",
     "output_type": "stream",
     "text": [
      "0\n",
      "1\n",
      "2\n",
      "3\n",
      "4\n"
     ]
    }
   ],
   "source": [
    "for i in range (5):\n",
    "    print (i)"
   ]
  },
  {
   "cell_type": "code",
   "execution_count": 5,
   "id": "fbb5025d",
   "metadata": {},
   "outputs": [
    {
     "name": "stdout",
     "output_type": "stream",
     "text": [
      "1\n",
      "2\n",
      "3\n",
      "4\n"
     ]
    }
   ],
   "source": [
    "for i in range (1,5):\n",
    "    print (i)"
   ]
  },
  {
   "cell_type": "code",
   "execution_count": 6,
   "id": "61fabb70",
   "metadata": {},
   "outputs": [
    {
     "name": "stdout",
     "output_type": "stream",
     "text": [
      "1\n",
      "3\n"
     ]
    }
   ],
   "source": [
    "for i in range (1,5,2):\n",
    "    print (i)"
   ]
  },
  {
   "cell_type": "code",
   "execution_count": 9,
   "id": "577aea40",
   "metadata": {},
   "outputs": [
    {
     "name": "stdout",
     "output_type": "stream",
     "text": [
      "Hello World\n",
      "Hello World\n",
      "Hello World\n",
      "Hello World\n",
      "Hello World\n"
     ]
    }
   ],
   "source": [
    "for i in range (5):\n",
    "    print (\"Hello World\")"
   ]
  },
  {
   "cell_type": "code",
   "execution_count": 10,
   "id": "be6df376",
   "metadata": {},
   "outputs": [
    {
     "name": "stdout",
     "output_type": "stream",
     "text": [
      "0 Hello World\n",
      "1 Hello World\n",
      "2 Hello World\n",
      "3 Hello World\n",
      "4 Hello World\n"
     ]
    }
   ],
   "source": [
    "for i in range (5):\n",
    "    print (i,\"Hello World\")"
   ]
  },
  {
   "cell_type": "code",
   "execution_count": 11,
   "id": "273b1ce0",
   "metadata": {},
   "outputs": [
    {
     "name": "stdout",
     "output_type": "stream",
     "text": [
      "1 Hello World\n",
      "2 Hello World\n",
      "3 Hello World\n",
      "4 Hello World\n"
     ]
    }
   ],
   "source": [
    "for i in range (1,5):\n",
    "    print (i,\"Hello World\")"
   ]
  },
  {
   "cell_type": "code",
   "execution_count": 12,
   "id": "489f704c",
   "metadata": {},
   "outputs": [
    {
     "name": "stdout",
     "output_type": "stream",
     "text": [
      "1 Hello World\n",
      "3 Hello World\n"
     ]
    }
   ],
   "source": [
    "for i in range (1,5,2):\n",
    "    print (i,\"Hello World\")"
   ]
  },
  {
   "cell_type": "code",
   "execution_count": 13,
   "id": "0128eaf2",
   "metadata": {},
   "outputs": [
    {
     "name": "stdout",
     "output_type": "stream",
     "text": [
      "Enter n = 5\n",
      "5\n",
      "10\n",
      "15\n",
      "20\n",
      "25\n",
      "30\n",
      "35\n",
      "40\n",
      "45\n",
      "50\n"
     ]
    }
   ],
   "source": [
    "n = int(input(\"Enter n = \"))\n",
    "for i in range(1,11):\n",
    "    print (n*i)"
   ]
  },
  {
   "cell_type": "code",
   "execution_count": 14,
   "id": "5f15695c",
   "metadata": {},
   "outputs": [
    {
     "name": "stdout",
     "output_type": "stream",
     "text": [
      "Enter n = 5\n",
      "5 * 1 = 5\n",
      "5 * 2 = 10\n",
      "5 * 3 = 15\n",
      "5 * 4 = 20\n",
      "5 * 5 = 25\n",
      "5 * 6 = 30\n",
      "5 * 7 = 35\n",
      "5 * 8 = 40\n",
      "5 * 9 = 45\n",
      "5 * 10 = 50\n"
     ]
    }
   ],
   "source": [
    "n = int(input(\"Enter n = \"))\n",
    "for i in range(1,11):\n",
    "    print (n, \"*\",i, \"=\",n*i)"
   ]
  },
  {
   "cell_type": "code",
   "execution_count": 15,
   "id": "ceea116b",
   "metadata": {},
   "outputs": [
    {
     "name": "stdout",
     "output_type": "stream",
     "text": [
      "Enter n = 5\n",
      "Enter x = 132\n",
      "132\n",
      "Enter x = 243\n",
      "243\n",
      "Enter x = 132\n",
      "132\n",
      "Enter x = 243\n",
      "243\n",
      "Enter x = 123\n",
      "123\n"
     ]
    }
   ],
   "source": [
    "n = int(input(\"Enter n = \"))\n",
    "for i in range (n):\n",
    "    x = int(input(\"Enter x = \"))\n",
    "    print (x)"
   ]
  },
  {
   "cell_type": "code",
   "execution_count": 16,
   "id": "0fae0ba1",
   "metadata": {},
   "outputs": [
    {
     "name": "stdout",
     "output_type": "stream",
     "text": [
      "Enter n = 5\n",
      "Enter x = 132\n",
      "132\n",
      "Enter x = 243\n",
      "375\n",
      "Enter x = 1\n",
      "376\n",
      "Enter x = 23\n",
      "399\n",
      "Enter x = 34\n",
      "433\n"
     ]
    }
   ],
   "source": [
    "s = 0\n",
    "n = int(input(\"Enter n = \"))\n",
    "for i in range (n):\n",
    "    x = int(input(\"Enter x = \"))\n",
    "    s = s + x\n",
    "    print (s)"
   ]
  },
  {
   "cell_type": "code",
   "execution_count": 19,
   "id": "013743ae",
   "metadata": {},
   "outputs": [
    {
     "name": "stdout",
     "output_type": "stream",
     "text": [
      "Enter n = 2\n",
      "Enter x = Apple \n",
      "Enter x = Ball\n",
      "Apple Ball\n"
     ]
    }
   ],
   "source": [
    "s = \"\"\n",
    "n = int(input(\"Enter n = \"))\n",
    "for i in range (n):\n",
    "    x = input(\"Enter x = \")\n",
    "    s = s + x\n",
    "print (s)"
   ]
  },
  {
   "cell_type": "code",
   "execution_count": 20,
   "id": "ca82d145",
   "metadata": {},
   "outputs": [
    {
     "name": "stdout",
     "output_type": "stream",
     "text": [
      "Enter n = 2\n",
      "Enter x = Apple \n",
      "Enter x = Ball\n",
      "Apple \n",
      "Ball\n",
      "\n"
     ]
    }
   ],
   "source": [
    "s = \"\"\n",
    "n = int(input(\"Enter n = \"))\n",
    "for i in range (n):\n",
    "    x = input(\"Enter x = \")\n",
    "    s = s + x + \"\\n\"\n",
    "print (s)"
   ]
  },
  {
   "cell_type": "code",
   "execution_count": 21,
   "id": "c22071bf",
   "metadata": {},
   "outputs": [],
   "source": [
    "# 4! = 1*2*3*4"
   ]
  },
  {
   "cell_type": "code",
   "execution_count": 33,
   "id": "21f0deb8",
   "metadata": {},
   "outputs": [
    {
     "name": "stdout",
     "output_type": "stream",
     "text": [
      "Enter n = 5\n",
      "1\n",
      "2\n",
      "6\n",
      "24\n",
      "120\n"
     ]
    }
   ],
   "source": [
    "fac = 1\n",
    "n = int(input('Enter n = '))\n",
    "for i in range(1,n+1):\n",
    "    fac = fac * i\n",
    "    print (fac)"
   ]
  },
  {
   "cell_type": "code",
   "execution_count": 34,
   "id": "96923391",
   "metadata": {},
   "outputs": [],
   "source": [
    "# range (5) -> 0,1,2,3,4"
   ]
  },
  {
   "cell_type": "raw",
   "id": "b20c989e",
   "metadata": {},
   "source": [
    " a = \"Hello\"\n",
    " for i in a:\n",
    " print (i)"
   ]
  },
  {
   "cell_type": "code",
   "execution_count": 37,
   "id": "177f2e73",
   "metadata": {},
   "outputs": [
    {
     "name": "stdout",
     "output_type": "stream",
     "text": [
      "H\n",
      "e\n",
      "l\n",
      "l\n",
      "o\n"
     ]
    }
   ],
   "source": [
    " a = \"Hello\"\n",
    " for i in a:\n",
    "   print(i)"
   ]
  },
  {
   "cell_type": "code",
   "execution_count": 38,
   "id": "8215e95e",
   "metadata": {},
   "outputs": [
    {
     "name": "stdout",
     "output_type": "stream",
     "text": [
      "H\n",
      "e\n",
      "l\n",
      "l\n",
      "o\n",
      " \n",
      "W\n",
      "o\n",
      "r\n",
      "l\n",
      "d\n",
      " \n",
      "I\n",
      " \n",
      "a\n",
      "m\n",
      " \n",
      "P\n",
      "y\n",
      "t\n",
      "h\n",
      "o\n",
      "n\n"
     ]
    }
   ],
   "source": [
    " a = \"Hello World I am Python\"\n",
    " for i in a:\n",
    "   print(i)"
   ]
  },
  {
   "cell_type": "code",
   "execution_count": 39,
   "id": "921fffd0",
   "metadata": {},
   "outputs": [
    {
     "name": "stdout",
     "output_type": "stream",
     "text": [
      "H \n",
      "\n",
      "e \n",
      "\n",
      "l \n",
      "\n",
      "l \n",
      "\n",
      "o \n",
      "\n"
     ]
    }
   ],
   "source": [
    " a = \"Hello\"\n",
    " for i in a:\n",
    "   print(i,\"\\n\")"
   ]
  },
  {
   "cell_type": "code",
   "execution_count": 45,
   "id": "74dc9120",
   "metadata": {},
   "outputs": [
    {
     "name": "stdout",
     "output_type": "stream",
     "text": [
      "HelloWorldIamPython"
     ]
    }
   ],
   "source": [
    "a = \"Hello World I am Python\"\n",
    "for i in a:\n",
    "    if i != \" \":\n",
    "     print(i, end = \"\")"
   ]
  },
  {
   "cell_type": "code",
   "execution_count": 48,
   "id": "6c0598f7",
   "metadata": {},
   "outputs": [
    {
     "data": {
      "text/plain": [
       "'H'"
      ]
     },
     "execution_count": 48,
     "metadata": {},
     "output_type": "execute_result"
    }
   ],
   "source": [
    "a = \"Hello World I am Python\"\n",
    "a [0]"
   ]
  },
  {
   "cell_type": "code",
   "execution_count": 49,
   "id": "2f7bcd4c",
   "metadata": {},
   "outputs": [
    {
     "data": {
      "text/plain": [
       "'Hello'"
      ]
     },
     "execution_count": 49,
     "metadata": {},
     "output_type": "execute_result"
    }
   ],
   "source": [
    "a = \"Hello World I am Python\"\n",
    "a [0:5]"
   ]
  },
  {
   "cell_type": "code",
   "execution_count": 50,
   "id": "955bed19",
   "metadata": {},
   "outputs": [
    {
     "data": {
      "text/plain": [
       "'hello'"
      ]
     },
     "execution_count": 50,
     "metadata": {},
     "output_type": "execute_result"
    }
   ],
   "source": [
    "a = \"Hello World I am Python\"\n",
    "b = a [0:5]\n",
    "c = b [5:]\n",
    "d = \"hello\"\n",
    "d+c"
   ]
  },
  {
   "cell_type": "code",
   "execution_count": 51,
   "id": "b3c450bf",
   "metadata": {},
   "outputs": [],
   "source": [
    "# control statement \n",
    "# break \n",
    "# continue \n",
    "# pass"
   ]
  },
  {
   "cell_type": "code",
   "execution_count": 53,
   "id": "ae38a299",
   "metadata": {},
   "outputs": [
    {
     "name": "stdout",
     "output_type": "stream",
     "text": [
      "0\n",
      "1\n",
      "2\n",
      "3\n",
      "4\n"
     ]
    }
   ],
   "source": [
    "for i in range (10):\n",
    "    if i == 5:\n",
    "        break \n",
    "    print (i)"
   ]
  },
  {
   "cell_type": "code",
   "execution_count": 73,
   "id": "c721ff7d",
   "metadata": {},
   "outputs": [
    {
     "name": "stdout",
     "output_type": "stream",
     "text": [
      "H\n",
      "e\n",
      "l\n",
      "l\n",
      "o\n"
     ]
    }
   ],
   "source": [
    "a = \"Hello World\"\n",
    "for i in a:\n",
    "    if i == \" \":\n",
    "        break\n",
    "    print(i)"
   ]
  },
  {
   "cell_type": "code",
   "execution_count": 68,
   "id": "6c408cc9",
   "metadata": {},
   "outputs": [
    {
     "name": "stdout",
     "output_type": "stream",
     "text": [
      "012346789"
     ]
    }
   ],
   "source": [
    "for i in range (10):\n",
    "    if i == 5:\n",
    "        continue \n",
    "    print (i, end = \"\")"
   ]
  },
  {
   "cell_type": "code",
   "execution_count": 74,
   "id": "84ced903",
   "metadata": {},
   "outputs": [
    {
     "name": "stdout",
     "output_type": "stream",
     "text": [
      "0123456789"
     ]
    }
   ],
   "source": [
    "for i in range (10):\n",
    "    if i == 5:\n",
    "        pass \n",
    "    print (i, end = \"\")"
   ]
  },
  {
   "cell_type": "code",
   "execution_count": 75,
   "id": "bb7dd118",
   "metadata": {},
   "outputs": [
    {
     "name": "stdout",
     "output_type": "stream",
     "text": [
      "H\n",
      "e\n",
      "l\n",
      "l\n",
      "o\n",
      "W\n",
      "o\n",
      "r\n",
      "l\n",
      "d\n"
     ]
    }
   ],
   "source": [
    "a = \"Hello World\"\n",
    "for i in a:\n",
    "    if i == \" \":\n",
    "        continue\n",
    "    print(i)"
   ]
  },
  {
   "cell_type": "code",
   "execution_count": 76,
   "id": "c188349b",
   "metadata": {},
   "outputs": [
    {
     "name": "stdout",
     "output_type": "stream",
     "text": [
      "0\n",
      "1\n",
      "2\n",
      "3\n",
      "4\n",
      "5\n",
      "6\n",
      "7\n",
      "8\n",
      "9\n"
     ]
    }
   ],
   "source": [
    "for i in range (10):\n",
    "    if i == 5:\n",
    "        pass \n",
    "    print (i)"
   ]
  },
  {
   "cell_type": "code",
   "execution_count": 78,
   "id": "6d9bd242",
   "metadata": {},
   "outputs": [
    {
     "name": "stdout",
     "output_type": "stream",
     "text": [
      "Enter n = 9\n",
      "9 is a composite number\n"
     ]
    }
   ],
   "source": [
    "# used of 'break' and 'continue' is in prime and composite numbers.\n",
    "# prime -> 2, 3, 5, 7, 11, 13, 17, 19\n",
    "# composite -> 4, 6, 8, 9, 10, 12, 15, 16, 18, 20\n",
    "n = int(input(\"Enter n = \"))\n",
    "for i in range (2,n):\n",
    "    if n%i ==0:\n",
    "        print (n, \"is a composite number\")\n",
    "        break\n",
    "else: \n",
    "    print(n, \"is a prime number\")"
   ]
  },
  {
   "cell_type": "code",
   "execution_count": 79,
   "id": "2d37e182",
   "metadata": {},
   "outputs": [
    {
     "name": "stdout",
     "output_type": "stream",
     "text": [
      "Enter n = 11\n",
      "11 is a prime number\n"
     ]
    }
   ],
   "source": [
    "n = int(input(\"Enter n = \"))\n",
    "for i in range (2,n):\n",
    "    if n%i ==0:\n",
    "        print (n, \"is a composite number\")\n",
    "        continue\n",
    "else: \n",
    "    print(n, \"is a prime number\")"
   ]
  },
  {
   "cell_type": "code",
   "execution_count": 1,
   "id": "8e9a17a5",
   "metadata": {},
   "outputs": [
    {
     "name": "stdout",
     "output_type": "stream",
     "text": [
      "\n",
      "*\n",
      "**\n",
      "***\n",
      "****\n"
     ]
    }
   ],
   "source": [
    "for i in range(5):\n",
    "    print (i*\"*\")"
   ]
  },
  {
   "cell_type": "code",
   "execution_count": 3,
   "id": "85d32272",
   "metadata": {},
   "outputs": [
    {
     "name": "stdout",
     "output_type": "stream",
     "text": [
      "*\n",
      "***\n",
      "*****\n",
      "*******\n",
      "*********\n"
     ]
    }
   ],
   "source": [
    "for i in range(1,10,2):\n",
    "    print (i*\"*\")"
   ]
  },
  {
   "cell_type": "code",
   "execution_count": 4,
   "id": "dc530380",
   "metadata": {},
   "outputs": [
    {
     "name": "stdout",
     "output_type": "stream",
     "text": [
      "**********\n",
      "*********\n",
      "********\n",
      "*******\n",
      "******\n",
      "*****\n",
      "****\n",
      "***\n",
      "**\n",
      "*\n"
     ]
    }
   ],
   "source": [
    "for i in range(10,0,-1):\n",
    "    print (i*\"*\")"
   ]
  },
  {
   "cell_type": "code",
   "execution_count": null,
   "id": "71004645",
   "metadata": {},
   "outputs": [],
   "source": []
  }
 ],
 "metadata": {
  "kernelspec": {
   "display_name": "Python 3 (ipykernel)",
   "language": "python",
   "name": "python3"
  },
  "language_info": {
   "codemirror_mode": {
    "name": "ipython",
    "version": 3
   },
   "file_extension": ".py",
   "mimetype": "text/x-python",
   "name": "python",
   "nbconvert_exporter": "python",
   "pygments_lexer": "ipython3",
   "version": "3.9.7"
  }
 },
 "nbformat": 4,
 "nbformat_minor": 5
}
