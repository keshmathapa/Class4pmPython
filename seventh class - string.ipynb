{
 "cells": [
  {
   "cell_type": "code",
   "execution_count": null,
   "id": "b7f954e1",
   "metadata": {},
   "outputs": [],
   "source": [
    "# imutable datatype\n",
    "a = \"Hello World\"\n",
    "print(type(a))"
   ]
  },
  {
   "cell_type": "code",
   "execution_count": null,
   "id": "41604317",
   "metadata": {},
   "outputs": [],
   "source": [
    "a = \"Hello\"\n",
    "b = \"World\"\n",
    "c = a+b\n",
    "print(c)"
   ]
  },
  {
   "cell_type": "code",
   "execution_count": null,
   "id": "17b6269a",
   "metadata": {},
   "outputs": [],
   "source": [
    "a = \"Hello World\"\n",
    "print(a[-1])"
   ]
  },
  {
   "cell_type": "code",
   "execution_count": null,
   "id": "cec752e4",
   "metadata": {},
   "outputs": [],
   "source": [
    "a = \"Hello World\"\n",
    "print(a[0:5])"
   ]
  },
  {
   "cell_type": "code",
   "execution_count": null,
   "id": "0c1a81d1",
   "metadata": {},
   "outputs": [],
   "source": [
    "a = \"Hello World\"\n",
    "print(a[1:6])"
   ]
  },
  {
   "cell_type": "code",
   "execution_count": null,
   "id": "2820623d",
   "metadata": {},
   "outputs": [],
   "source": [
    "a = \"Hello World\"\n",
    "print(a[0:6:2])"
   ]
  },
  {
   "cell_type": "code",
   "execution_count": null,
   "id": "803978a1",
   "metadata": {},
   "outputs": [],
   "source": [
    "a = \"Hello World\"\n",
    "l = len(a)\n",
    "print(l)\n",
    "print(a[l::-1])"
   ]
  },
  {
   "cell_type": "code",
   "execution_count": null,
   "id": "96dad68a",
   "metadata": {},
   "outputs": [],
   "source": [
    "a = \"Hello World\"\n",
    "print(a[0:100])"
   ]
  },
  {
   "cell_type": "code",
   "execution_count": null,
   "id": "af45dbcd",
   "metadata": {},
   "outputs": [],
   "source": [
    "a = \"Hello World\"\n",
    "l = len(a)\n",
    "a[l]"
   ]
  },
  {
   "cell_type": "code",
   "execution_count": null,
   "id": "b0360c4a",
   "metadata": {},
   "outputs": [],
   "source": [
    "a = \"Hello World\"\n",
    "l = len(a)\n",
    "print(a[l-1])"
   ]
  },
  {
   "cell_type": "code",
   "execution_count": null,
   "id": "9cbe9a5e",
   "metadata": {},
   "outputs": [],
   "source": [
    "for i in a:\n",
    "    print(i, end = \"\")"
   ]
  },
  {
   "cell_type": "code",
   "execution_count": null,
   "id": "3b14e659",
   "metadata": {},
   "outputs": [],
   "source": []
  },
  {
   "cell_type": "code",
   "execution_count": 2,
   "id": "ae635217",
   "metadata": {},
   "outputs": [
    {
     "name": "stdout",
     "output_type": "stream",
     "text": [
      "Enter n = 2\n",
      "Enter name = keshma\n",
      "Enter phone = 9861644644\n",
      "Enter name = sonu\n",
      "Enter phone = 9871755755\n",
      "keshma 9861644644\n",
      "sonu 9871755755\n",
      "\n"
     ]
    }
   ],
   "source": [
    "s = \"\"\n",
    "n = int(input(\"Enter n = \"))\n",
    "for i in range(n):\n",
    "    name  = input(\"Enter name = \")\n",
    "    phone = input(\"Enter phone = \")\n",
    "    info = name+ \" \" +phone \n",
    "    s = s+info+\"\\n\"\n",
    "    \n",
    "print(s)"
   ]
  },
  {
   "cell_type": "code",
   "execution_count": 4,
   "id": "9454df34",
   "metadata": {},
   "outputs": [
    {
     "name": "stdout",
     "output_type": "stream",
     "text": [
      "Hello I amRamI am from KathmanduI am 34\n"
     ]
    }
   ],
   "source": [
    "#string formatting\n",
    "name = \"Ram\"\n",
    "age = 34\n",
    "address = \"Kathmandu\"\n",
    "\n",
    "x = \"Hello I am\"+name+\"I am from \"+address+\"I am \"+str(age)\n",
    "print(x)"
   ]
  },
  {
   "cell_type": "code",
   "execution_count": 5,
   "id": "64e0c49a",
   "metadata": {},
   "outputs": [
    {
     "name": "stdout",
     "output_type": "stream",
     "text": [
      "Hello I am Ram. I am from Kathmandu. I am 34.\n"
     ]
    }
   ],
   "source": [
    "#instead use:\n",
    "\n",
    "name = \"Ram\"\n",
    "age = 34\n",
    "address = \"Kathmandu\"\n",
    "\n",
    "y = f\"Hello I am {name}. I am from {address}. I am {str(age)}.\"\n",
    "print(y)"
   ]
  },
  {
   "cell_type": "code",
   "execution_count": 1,
   "id": "ef82df92",
   "metadata": {},
   "outputs": [
    {
     "name": "stdout",
     "output_type": "stream",
     "text": [
      "Enter n = 2\n",
      "Enter name = Ram \n",
      "Enter phone = 9861644644\n",
      "Enter name = Shyam \n",
      "Enter phone = 9871755755\n",
      "Ram  9861644644\n",
      "\n",
      "Shyam  9871755755\n",
      "\n",
      "\n"
     ]
    }
   ],
   "source": [
    "s = \"\"\n",
    "n = int(input(\"Enter n = \"))\n",
    "for i in range(n):\n",
    "    name  = input(\"Enter name = \")\n",
    "    phone = input(\"Enter phone = \")\n",
    "    info = f\"{name} {phone}\\n\" \n",
    "    s = s+info+\"\\n\"\n",
    "    \n",
    "print(s)"
   ]
  },
  {
   "cell_type": "code",
   "execution_count": 18,
   "id": "dc2c069d",
   "metadata": {},
   "outputs": [
    {
     "name": "stdout",
     "output_type": "stream",
     "text": [
      "Enter n = 2\n",
      "Enter product name = momo\n",
      "Enter price = 150\n",
      "Enter quantity = 3\n",
      "Enter product name = coke\n",
      "Enter price = 120\n",
      "Enter quantity = 4\n",
      "Product Price Quantity Total\n",
      "\n",
      "momo 150 3 450\n",
      "coke 120 4 480\n",
      " \n",
      "\n",
      "All Total =  930\n"
     ]
    }
   ],
   "source": [
    "s = \"\"\n",
    "all_total = 0\n",
    "n = int(input(\"Enter n = \"))\n",
    "for i in range(n):\n",
    "    name = input(\"Enter product name = \")\n",
    "    price = int(input(\"Enter price = \"))\n",
    "    quantity = int(input(\"Enter quantity = \"))\n",
    "    total = price*quantity\n",
    "    info = f\"{name} {price} {quantity} {total}\\n\"\n",
    "    s = s + info\n",
    "    all_total = all_total + total\n",
    "print(\"Product Price Quantity Total\\n\")    \n",
    "print(s,\"\\n\")\n",
    "print(\"All Total = \",all_total)"
   ]
  },
  {
   "cell_type": "code",
   "execution_count": 8,
   "id": "e93c13e4",
   "metadata": {},
   "outputs": [],
   "source": []
  },
  {
   "cell_type": "code",
   "execution_count": 10,
   "id": "a887e3a4",
   "metadata": {},
   "outputs": [
    {
     "data": {
      "text/plain": [
       "'Rama Shyam Hari Sita Gita'"
      ]
     },
     "execution_count": 10,
     "metadata": {},
     "output_type": "execute_result"
    }
   ],
   "source": [
    "#replace()\n",
    "a = \"Ram Shyam Hari Sita Gita\"\n",
    "a.replace(\"Ram\", \"Rama\")"
   ]
  },
  {
   "cell_type": "code",
   "execution_count": 12,
   "id": "e2bbe36a",
   "metadata": {},
   "outputs": [
    {
     "data": {
      "text/plain": [
       "' Shyam Hari Sita Gita'"
      ]
     },
     "execution_count": 12,
     "metadata": {},
     "output_type": "execute_result"
    }
   ],
   "source": [
    "#replace()\n",
    "a = \"Ram Shyam Hari Sita Gita\"\n",
    "a.replace(\"Ram\",\"\")"
   ]
  },
  {
   "cell_type": "code",
   "execution_count": 16,
   "id": "f6a7a09b",
   "metadata": {},
   "outputs": [
    {
     "name": "stdout",
     "output_type": "stream",
     "text": [
      "Rama Shyam Hari Sita Gita Rama\n"
     ]
    }
   ],
   "source": [
    "#replace()\n",
    "a = \"Ram Shyam Hari Sita Gita Ram\"\n",
    "a = a.replace(\"Ram\",\"Rama\")\n",
    "print(a)"
   ]
  },
  {
   "cell_type": "code",
   "execution_count": 5,
   "id": "f74519d5",
   "metadata": {},
   "outputs": [
    {
     "name": "stdout",
     "output_type": "stream",
     "text": [
      "Enter name = Ram\n",
      "Yes\n"
     ]
    }
   ],
   "source": [
    "#search\n",
    "a = \"Ram Shyam Hari Sita Gita Ram\"\n",
    "name = input(\"Enter name = \")\n",
    "if name in a:\n",
    "    print(\"Yes\")"
   ]
  },
  {
   "cell_type": "code",
   "execution_count": 6,
   "id": "320eb325",
   "metadata": {},
   "outputs": [
    {
     "data": {
      "text/plain": [
       "2"
      ]
     },
     "execution_count": 6,
     "metadata": {},
     "output_type": "execute_result"
    }
   ],
   "source": [
    "a = \"Ram Shyam Hari Sita Gita Ram\"\n",
    "a.count(\"Ram\")"
   ]
  },
  {
   "cell_type": "code",
   "execution_count": 7,
   "id": "599bbc91",
   "metadata": {},
   "outputs": [
    {
     "name": "stdout",
     "output_type": "stream",
     "text": [
      "RAM SHYAM HARI SITA GITA RAM\n",
      "ram shyam hari sita gita ram\n"
     ]
    }
   ],
   "source": [
    "a = \"Ram Shyam Hari Sita Gita Ram\"\n",
    "print(a.upper())\n",
    "print(a.lower())"
   ]
  },
  {
   "cell_type": "code",
   "execution_count": 8,
   "id": "3cc74cfd",
   "metadata": {},
   "outputs": [
    {
     "name": "stdout",
     "output_type": "stream",
     "text": [
      "Enter name = ram\n",
      "Yes 2\n"
     ]
    }
   ],
   "source": [
    "a = \"Ram Shyam Hari Sita Gita Ram\".lower()\n",
    "name = input(\"Enter name = \").lower()\n",
    "if name in a:\n",
    "    print(\"Yes\",a.count(name))"
   ]
  },
  {
   "cell_type": "code",
   "execution_count": 9,
   "id": "f4a36b70",
   "metadata": {},
   "outputs": [
    {
     "data": {
      "text/plain": [
       "'A'"
      ]
     },
     "execution_count": 9,
     "metadata": {},
     "output_type": "execute_result"
    }
   ],
   "source": [
    "name = \"Ram Shyam Hari Sita Gita Ram\"\n",
    "name[1].upper()"
   ]
  },
  {
   "cell_type": "code",
   "execution_count": 14,
   "id": "49967b13",
   "metadata": {},
   "outputs": [
    {
     "data": {
      "text/plain": [
       "'RAm Shyam Hari Sita Gita Ram'"
      ]
     },
     "execution_count": 14,
     "metadata": {},
     "output_type": "execute_result"
    }
   ],
   "source": [
    "name = \"Ram Shyam Hari Sita Gita Ram\"\n",
    "x = name[1].upper()\n",
    "y = name[0]\n",
    "z = name[2:]\n",
    "final = y+x+z\n",
    "final"
   ]
  },
  {
   "cell_type": "code",
   "execution_count": 17,
   "id": "70c9809e",
   "metadata": {},
   "outputs": [
    {
     "data": {
      "text/plain": [
       "'RAm ShyAm HAri SitA GitA RAm'"
      ]
     },
     "execution_count": 17,
     "metadata": {},
     "output_type": "execute_result"
    }
   ],
   "source": [
    "name = \"Ram Shyam Hari Sita Gita Ram\"\n",
    "name = name.replace(\"a\",\"A\")\n",
    "name"
   ]
  },
  {
   "cell_type": "code",
   "execution_count": null,
   "id": "a7481281",
   "metadata": {},
   "outputs": [],
   "source": [
    "#WAP to develop result management system"
   ]
  }
 ],
 "metadata": {
  "kernelspec": {
   "display_name": "Python 3 (ipykernel)",
   "language": "python",
   "name": "python3"
  },
  "language_info": {
   "codemirror_mode": {
    "name": "ipython",
    "version": 3
   },
   "file_extension": ".py",
   "mimetype": "text/x-python",
   "name": "python",
   "nbconvert_exporter": "python",
   "pygments_lexer": "ipython3",
   "version": "3.9.7"
  }
 },
 "nbformat": 4,
 "nbformat_minor": 5
}
