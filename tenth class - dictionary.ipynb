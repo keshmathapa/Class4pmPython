{
 "cells": [
  {
   "cell_type": "code",
   "execution_count": 1,
   "id": "6c5e21fe",
   "metadata": {},
   "outputs": [],
   "source": [
    "# a = {}\n",
    "# b = {<key>:<value>,<key>:<value>}"
   ]
  },
  {
   "cell_type": "code",
   "execution_count": 2,
   "id": "8c0655ca",
   "metadata": {},
   "outputs": [
    {
     "name": "stdout",
     "output_type": "stream",
     "text": [
      "{'a': 'Apple', 'b': 'Ball', 'c': 'Cat'}\n",
      "<class 'dict'>\n"
     ]
    }
   ],
   "source": [
    "a = dict()\n",
    "b = {\"a\":\"Apple\", \"b\":\"Ball\",\"c\":\"Cat\"}\n",
    "print(b)\n",
    "print(type(b))"
   ]
  },
  {
   "cell_type": "code",
   "execution_count": 3,
   "id": "ab74cb59",
   "metadata": {},
   "outputs": [
    {
     "ename": "KeyError",
     "evalue": "0",
     "output_type": "error",
     "traceback": [
      "\u001b[0;31m---------------------------------------------------------------------------\u001b[0m",
      "\u001b[0;31mKeyError\u001b[0m                                  Traceback (most recent call last)",
      "\u001b[0;32m/var/folders/0_/kdcbhyrn1ssd2_0tvptg35cr0000gn/T/ipykernel_41505/3848010232.py\u001b[0m in \u001b[0;36m<module>\u001b[0;34m\u001b[0m\n\u001b[0;32m----> 1\u001b[0;31m \u001b[0mprint\u001b[0m\u001b[0;34m(\u001b[0m\u001b[0ma\u001b[0m\u001b[0;34m[\u001b[0m\u001b[0;36m0\u001b[0m\u001b[0;34m]\u001b[0m\u001b[0;34m)\u001b[0m\u001b[0;34m\u001b[0m\u001b[0;34m\u001b[0m\u001b[0m\n\u001b[0m",
      "\u001b[0;31mKeyError\u001b[0m: 0"
     ]
    }
   ],
   "source": [
    "print(a[0])"
   ]
  },
  {
   "cell_type": "code",
   "execution_count": 4,
   "id": "1545a8ef",
   "metadata": {},
   "outputs": [],
   "source": [
    "# Dict\n",
    "# - Indexed \n",
    "# - Duplicate Values \n",
    "# - Ordered \n",
    "# - Mutable"
   ]
  },
  {
   "cell_type": "code",
   "execution_count": 8,
   "id": "c8d09129",
   "metadata": {},
   "outputs": [
    {
     "name": "stdout",
     "output_type": "stream",
     "text": [
      "Apple\n",
      "Ball\n",
      "Cat\n",
      "3\n"
     ]
    }
   ],
   "source": [
    "b = {\"a\":\"Apple\", \"b\":\"Ball\",\"c\":\"Cat\"}\n",
    "print(b[\"a\"])\n",
    "print(b[\"b\"])\n",
    "print(b[\"c\"])\n",
    "print(len(b))"
   ]
  },
  {
   "cell_type": "code",
   "execution_count": 9,
   "id": "8af933e7",
   "metadata": {},
   "outputs": [
    {
     "data": {
      "text/plain": [
       "{'a': 'Ant', 'b': 'Ball', 'c': 'Cat'}"
      ]
     },
     "execution_count": 9,
     "metadata": {},
     "output_type": "execute_result"
    }
   ],
   "source": [
    "b = {\"a\":\"Apple\", \"b\":\"Ball\",\"c\":\"Cat\",\"a\":\"Ant\"}\n",
    "b"
   ]
  },
  {
   "cell_type": "code",
   "execution_count": 11,
   "id": "ea7e7116",
   "metadata": {},
   "outputs": [
    {
     "data": {
      "text/plain": [
       "{'a': 'Apple', 'b': 'Ball', 'c': 'Cat', 'A': 'Ant'}"
      ]
     },
     "execution_count": 11,
     "metadata": {},
     "output_type": "execute_result"
    }
   ],
   "source": [
    "# case sensitive \n",
    "b = {\"a\":\"Apple\", \"b\":\"Ball\",\"c\":\"Cat\",\"A\":\"Ant\"}\n",
    "b"
   ]
  },
  {
   "cell_type": "code",
   "execution_count": 13,
   "id": "e79bbe5d",
   "metadata": {},
   "outputs": [
    {
     "data": {
      "text/plain": [
       "{'a': 'Apple', 'b': 'Ball', 'c': 'Cat', 'A': 'Apple'}"
      ]
     },
     "execution_count": 13,
     "metadata": {},
     "output_type": "execute_result"
    }
   ],
   "source": [
    "#duplicate value can stay\n",
    "b = {\"a\":\"Apple\", \"b\":\"Ball\",\"c\":\"Cat\",\"A\":\"Apple\"}\n",
    "b"
   ]
  },
  {
   "cell_type": "code",
   "execution_count": 14,
   "id": "9261d043",
   "metadata": {},
   "outputs": [
    {
     "name": "stdout",
     "output_type": "stream",
     "text": [
      "{'a': 'Apple', 'b': 'Ball', 'c': 'Cat', 'A': 'Apple'}\n"
     ]
    }
   ],
   "source": [
    "b = {\"a\":\"Apple\", \"b\":\"Ball\",\"c\":\"Cat\",\"A\":\"Apple\"}\n",
    "print(b)"
   ]
  },
  {
   "cell_type": "code",
   "execution_count": 16,
   "id": "838ede34",
   "metadata": {},
   "outputs": [
    {
     "data": {
      "text/plain": [
       "{'a': 'Apple', 'b': 'Ball', 'c': 'Cat'}"
      ]
     },
     "execution_count": 16,
     "metadata": {},
     "output_type": "execute_result"
    }
   ],
   "source": [
    "# Syntax \n",
    "a = {}\n",
    "# a[<key>] = <value>\n",
    "a[\"a\"] = \"Apple\"\n",
    "a[\"b\"] = \"Ball\"\n",
    "a[\"c\"] = \"Cat\"\n",
    "a"
   ]
  },
  {
   "cell_type": "code",
   "execution_count": 17,
   "id": "aa9d980b",
   "metadata": {},
   "outputs": [
    {
     "data": {
      "text/plain": [
       "{'a': 'Apple', 'b': 'Ball', 'c': 'Coat'}"
      ]
     },
     "execution_count": 17,
     "metadata": {},
     "output_type": "execute_result"
    }
   ],
   "source": [
    "# Syntax \n",
    "a = {}\n",
    "# a[<key>] = <value>\n",
    "a[\"a\"] = \"Apple\"\n",
    "a[\"b\"] = \"Ball\"\n",
    "a[\"c\"] = \"Cat\"\n",
    "a[\"c\"] = \"Coat\"\n",
    "a"
   ]
  },
  {
   "cell_type": "code",
   "execution_count": 24,
   "id": "4504414f",
   "metadata": {},
   "outputs": [
    {
     "name": "stdout",
     "output_type": "stream",
     "text": [
      "Enter n = 2\n",
      "Enter name = Ram \n",
      "Enter phone = 9861644644\n",
      "Enter name = Shyam \n",
      "Enter phone = 9751544544\n",
      "{'Ram ': '9861644644', 'Shyam ': '9751544544'}\n"
     ]
    }
   ],
   "source": [
    "data = {}\n",
    "n = int(input(\"Enter n = \"))\n",
    "for i in range(n):\n",
    "    name = input(\"Enter name = \")\n",
    "    phone = input(\"Enter phone = \")\n",
    "    data[name] = phone\n",
    "        \n",
    "print(data)"
   ]
  },
  {
   "cell_type": "code",
   "execution_count": 25,
   "id": "c04ad999",
   "metadata": {},
   "outputs": [
    {
     "name": "stdout",
     "output_type": "stream",
     "text": [
      "Ram \n",
      "Shyam \n"
     ]
    }
   ],
   "source": [
    "a = {'Ram ': '9861644644', 'Shyam ': '9751544544'}\n",
    "for i in a:\n",
    "    print(i)"
   ]
  },
  {
   "cell_type": "code",
   "execution_count": 36,
   "id": "f8a58d51",
   "metadata": {},
   "outputs": [
    {
     "name": "stdout",
     "output_type": "stream",
     "text": [
      "9861644644\n",
      "9751544544\n"
     ]
    }
   ],
   "source": [
    "a = {'Ram ': '9861644644', 'Shyam ':'9751544544'}\n",
    "for i in a.values():\n",
    "    print(i)"
   ]
  },
  {
   "cell_type": "code",
   "execution_count": 27,
   "id": "cdece08a",
   "metadata": {},
   "outputs": [
    {
     "name": "stdout",
     "output_type": "stream",
     "text": [
      "('Ram ', '9861644644')\n",
      "('Shyam ', '9751544544')\n"
     ]
    }
   ],
   "source": [
    "a = {'Ram ': '9861644644', 'Shyam ': '9751544544'}\n",
    "for i in a.items():\n",
    "    print(i)"
   ]
  },
  {
   "cell_type": "code",
   "execution_count": 37,
   "id": "c865ab20",
   "metadata": {},
   "outputs": [
    {
     "data": {
      "text/plain": [
       "{'Ram': '9861644644', 'Shyam': '9751544544'}"
      ]
     },
     "execution_count": 37,
     "metadata": {},
     "output_type": "execute_result"
    }
   ],
   "source": [
    "x = [('Ram', '9861644644'), ('Shyam', '9751544544')]\n",
    "dict(x)"
   ]
  },
  {
   "cell_type": "code",
   "execution_count": 38,
   "id": "44a42e96",
   "metadata": {},
   "outputs": [
    {
     "data": {
      "text/plain": [
       "{'Ram': '9881844844', 'Shyam': '9751544544'}"
      ]
     },
     "execution_count": 38,
     "metadata": {},
     "output_type": "execute_result"
    }
   ],
   "source": [
    "a = {'Ram': '9861644644', 'Shyam': '9751544544'}\n",
    "a[\"Ram\"] = \"9881844844\"\n",
    "a"
   ]
  },
  {
   "cell_type": "code",
   "execution_count": 39,
   "id": "5740b1f2",
   "metadata": {},
   "outputs": [
    {
     "ename": "TypeError",
     "evalue": "unsupported operand type(s) for +: 'dict' and 'dict'",
     "output_type": "error",
     "traceback": [
      "\u001b[0;31m---------------------------------------------------------------------------\u001b[0m",
      "\u001b[0;31mTypeError\u001b[0m                                 Traceback (most recent call last)",
      "\u001b[0;32m/var/folders/0_/kdcbhyrn1ssd2_0tvptg35cr0000gn/T/ipykernel_41505/1930160238.py\u001b[0m in \u001b[0;36m<module>\u001b[0;34m\u001b[0m\n\u001b[1;32m      1\u001b[0m \u001b[0ma\u001b[0m \u001b[0;34m=\u001b[0m \u001b[0;34m{\u001b[0m\u001b[0;34m\"A\"\u001b[0m\u001b[0;34m:\u001b[0m\u001b[0;34m\"Apple\"\u001b[0m\u001b[0;34m}\u001b[0m\u001b[0;34m\u001b[0m\u001b[0;34m\u001b[0m\u001b[0m\n\u001b[1;32m      2\u001b[0m \u001b[0mb\u001b[0m \u001b[0;34m=\u001b[0m \u001b[0;34m{\u001b[0m\u001b[0;34m\"B\"\u001b[0m\u001b[0;34m:\u001b[0m\u001b[0;34m\"Ball\"\u001b[0m\u001b[0;34m}\u001b[0m\u001b[0;34m\u001b[0m\u001b[0;34m\u001b[0m\u001b[0m\n\u001b[0;32m----> 3\u001b[0;31m \u001b[0mc\u001b[0m \u001b[0;34m=\u001b[0m \u001b[0ma\u001b[0m\u001b[0;34m+\u001b[0m\u001b[0mb\u001b[0m\u001b[0;34m\u001b[0m\u001b[0;34m\u001b[0m\u001b[0m\n\u001b[0m\u001b[1;32m      4\u001b[0m \u001b[0mc\u001b[0m\u001b[0;34m\u001b[0m\u001b[0;34m\u001b[0m\u001b[0m\n",
      "\u001b[0;31mTypeError\u001b[0m: unsupported operand type(s) for +: 'dict' and 'dict'"
     ]
    }
   ],
   "source": [
    "a = {\"A\":\"Apple\"}\n",
    "b = {\"B\":\"Ball\"}\n",
    "c = a+b\n",
    "c"
   ]
  },
  {
   "cell_type": "code",
   "execution_count": 40,
   "id": "b16d5dbd",
   "metadata": {},
   "outputs": [
    {
     "name": "stdout",
     "output_type": "stream",
     "text": [
      "{1: 1, 2: 4, 3: 9, 4: 16}\n"
     ]
    }
   ],
   "source": [
    "a = {1:1,2:4,3:9,4:16}\n",
    "print(a)"
   ]
  },
  {
   "cell_type": "code",
   "execution_count": 41,
   "id": "18e5447a",
   "metadata": {},
   "outputs": [
    {
     "data": {
      "text/plain": [
       "{('Ram', 'Hari'): '9881844844', 'Shyam': '9751544544'}"
      ]
     },
     "execution_count": 41,
     "metadata": {},
     "output_type": "execute_result"
    }
   ],
   "source": [
    "a = {(\"Ram\",\"Hari\"): '9881844844', \"Shyam\": '9751544544'}\n",
    "a"
   ]
  },
  {
   "cell_type": "code",
   "execution_count": 42,
   "id": "ea5317b7",
   "metadata": {},
   "outputs": [
    {
     "ename": "TypeError",
     "evalue": "unhashable type: 'list'",
     "output_type": "error",
     "traceback": [
      "\u001b[0;31m---------------------------------------------------------------------------\u001b[0m",
      "\u001b[0;31mTypeError\u001b[0m                                 Traceback (most recent call last)",
      "\u001b[0;32m/var/folders/0_/kdcbhyrn1ssd2_0tvptg35cr0000gn/T/ipykernel_41505/2654715953.py\u001b[0m in \u001b[0;36m<module>\u001b[0;34m\u001b[0m\n\u001b[0;32m----> 1\u001b[0;31m \u001b[0ma\u001b[0m \u001b[0;34m=\u001b[0m \u001b[0;34m{\u001b[0m\u001b[0;34m[\u001b[0m\u001b[0;34m\"Ram\"\u001b[0m\u001b[0;34m,\u001b[0m\u001b[0;34m\"Hari\"\u001b[0m\u001b[0;34m]\u001b[0m\u001b[0;34m:\u001b[0m \u001b[0;34m'9881844844'\u001b[0m\u001b[0;34m,\u001b[0m \u001b[0;34m\"Shyam\"\u001b[0m\u001b[0;34m:\u001b[0m \u001b[0;34m'9751544544'\u001b[0m\u001b[0;34m}\u001b[0m\u001b[0;34m\u001b[0m\u001b[0;34m\u001b[0m\u001b[0m\n\u001b[0m\u001b[1;32m      2\u001b[0m \u001b[0ma\u001b[0m\u001b[0;34m\u001b[0m\u001b[0;34m\u001b[0m\u001b[0m\n",
      "\u001b[0;31mTypeError\u001b[0m: unhashable type: 'list'"
     ]
    }
   ],
   "source": [
    "a = {[\"Ram\",\"Hari\"]: '9881844844', \"Shyam\": '9751544544'}\n",
    "a"
   ]
  },
  {
   "cell_type": "code",
   "execution_count": 44,
   "id": "492b5d25",
   "metadata": {},
   "outputs": [],
   "source": [
    "# tuple:()"
   ]
  },
  {
   "cell_type": "code",
   "execution_count": 45,
   "id": "97f7a02d",
   "metadata": {},
   "outputs": [
    {
     "name": "stdout",
     "output_type": "stream",
     "text": [
      "{}\n"
     ]
    }
   ],
   "source": [
    "a = {'Ram': '9861644644', 'Shyam': '9751544544'}\n",
    "a.clear()\n",
    "print(a)"
   ]
  },
  {
   "cell_type": "code",
   "execution_count": 47,
   "id": "cdf6ff52",
   "metadata": {},
   "outputs": [
    {
     "name": "stdout",
     "output_type": "stream",
     "text": [
      "{'Shyam': '9751544544'}\n"
     ]
    }
   ],
   "source": [
    "a = {'Ram': '9861644644', 'Shyam': '9751544544'}\n",
    "del a[\"Ram\"]\n",
    "print(a)"
   ]
  },
  {
   "cell_type": "code",
   "execution_count": 48,
   "id": "ce474835",
   "metadata": {},
   "outputs": [
    {
     "name": "stdout",
     "output_type": "stream",
     "text": [
      "{'Ram': '9861644644'}\n"
     ]
    }
   ],
   "source": [
    "a = {'Ram': '9861644644', 'Shyam': '9751544544'}\n",
    "a.pop(\"Shyam\")\n",
    "print(a)"
   ]
  },
  {
   "cell_type": "code",
   "execution_count": 50,
   "id": "018eb190",
   "metadata": {},
   "outputs": [
    {
     "name": "stdout",
     "output_type": "stream",
     "text": [
      "{'Shyam': '9751544544'}\n"
     ]
    }
   ],
   "source": [
    "a = {(\"Ram\",\"Hari\"): '9881844844', \"Shyam\": '9751544544'}\n",
    "del a[(\"Ram\",\"Hari\")]\n",
    "print(a)"
   ]
  },
  {
   "cell_type": "code",
   "execution_count": 51,
   "id": "a0d29216",
   "metadata": {},
   "outputs": [
    {
     "data": {
      "text/plain": [
       "{'Ram': ['9861644644', '9881844844'], 'Shyam': ['9751544544', '9851544544']}"
      ]
     },
     "execution_count": 51,
     "metadata": {},
     "output_type": "execute_result"
    }
   ],
   "source": [
    "# list inside dictionary \n",
    "a = {'Ram': ['9861644644','9881844844'],'Shyam': ['9751544544','9851544544']}\n",
    "a"
   ]
  },
  {
   "cell_type": "code",
   "execution_count": 53,
   "id": "4ae0084f",
   "metadata": {},
   "outputs": [
    {
     "name": "stdout",
     "output_type": "stream",
     "text": [
      "Enter n = 2\n",
      "Enter name = Ram\n",
      "Enter ntc phone = 9861644644\n",
      "Enter ncell phone = 9751544544\n",
      "Enter name = Shyam\n",
      "Enter ntc phone = 9751533533\n",
      "Enter ncell phone = 9651322322\n",
      "{'Ram': ['9861644644', '9751544544'], 'Shyam': ['9751533533', '9651322322']}\n"
     ]
    }
   ],
   "source": [
    "data = {}\n",
    "n = int(input(\"Enter n = \"))\n",
    "for i in range(n):\n",
    "    name = input(\"Enter name = \")\n",
    "    ntc = input(\"Enter ntc phone = \")\n",
    "    ncell = input(\"Enter ncell phone = \")\n",
    "    data[name] = [ntc,ncell]\n",
    "        \n",
    "print(data)"
   ]
  },
  {
   "cell_type": "code",
   "execution_count": 55,
   "id": "04822850",
   "metadata": {},
   "outputs": [
    {
     "name": "stdout",
     "output_type": "stream",
     "text": [
      "Enter n = 2\n",
      "Enter name = Ram \n",
      "Enter ntc phone = 98510404344\n",
      "Enter ncell phone = 9861644633\n",
      "Insert valid number\n",
      "Enter name = Shyam \n",
      "Enter ntc phone = 9871165478\n",
      "Enter ncell phone = 987654321012\n",
      "Insert valid number\n",
      "{}\n"
     ]
    }
   ],
   "source": [
    "data = {}\n",
    "n = int(input(\"Enter n = \"))\n",
    "for i in range(n):\n",
    "    name = input(\"Enter name = \")\n",
    "    ntc = input(\"Enter ntc phone = \")\n",
    "    ncell = input(\"Enter ncell phone = \")\n",
    "    if len(ntc) == 10 and len(ncell) == 10:\n",
    "        data[name] = [ntc,ncell]\n",
    "    else:\n",
    "        print(\"Insert valid number\")\n",
    "        \n",
    "print(data)"
   ]
  },
  {
   "cell_type": "code",
   "execution_count": 56,
   "id": "4a57e469",
   "metadata": {},
   "outputs": [
    {
     "data": {
      "text/plain": [
       "{'Ram': ['9861644644', '9751544544'],\n",
       " 'Shyam': ['9751533533', '9651322322'],\n",
       " 'Hari': ['9841687862', '9851040434']}"
      ]
     },
     "execution_count": 56,
     "metadata": {},
     "output_type": "execute_result"
    }
   ],
   "source": [
    "a = {'Ram': ['9861644644', '9751544544'], 'Shyam': ['9751533533', '9651322322']}\n",
    "a[\"Hari\"] = ['9841687862','9851040434']\n",
    "a"
   ]
  },
  {
   "cell_type": "code",
   "execution_count": 61,
   "id": "c7536c44",
   "metadata": {},
   "outputs": [
    {
     "name": "stdout",
     "output_type": "stream",
     "text": [
      "Enter name = Hari\n",
      "Enter 0 for ntc and 1 for ncell 1\n",
      "NCell no of Hari 9851040434\n"
     ]
    }
   ],
   "source": [
    "name = input(\"Enter name = \")\n",
    "a = {'Ram': ['9861644644', '9751544544'],\n",
    " 'Shyam': ['9751533533', '9651322322'],\n",
    " 'Hari': ['9841687862', '9851040434']}\n",
    "x = int(input(\"Enter 0 for ntc and 1 for ncell \"))\n",
    "if x == 0:\n",
    "    print(f\"NTC phone number of {name}\",a[name][0])\n",
    "elif x == 1:\n",
    "    print(f\"NCell no of {name}\",a[name][1])"
   ]
  },
  {
   "cell_type": "code",
   "execution_count": 63,
   "id": "f326a84a",
   "metadata": {},
   "outputs": [
    {
     "data": {
      "text/plain": [
       "{'Ram': [9865108903, 9805165104],\n",
       " 'Shyam': ['9751533533', '9651322322'],\n",
       " 'Hari': ['9841687862', '9851040434']}"
      ]
     },
     "execution_count": 63,
     "metadata": {},
     "output_type": "execute_result"
    }
   ],
   "source": [
    "a = {'Ram': ['9861644644', '9751544544'],\n",
    " 'Shyam': ['9751533533', '9651322322'],\n",
    " 'Hari': ['9841687862', '9851040434']}\n",
    "a[\"Ram\"][0] = 9865108903\n",
    "a[\"Ram\"][1] = 9805165104\n",
    "a"
   ]
  },
  {
   "cell_type": "code",
   "execution_count": 3,
   "id": "6b6737c2",
   "metadata": {},
   "outputs": [
    {
     "name": "stdout",
     "output_type": "stream",
     "text": [
      "[{'name': 'Ram', 'age': 34, 'add': 'Kathmandu'}, {'name': 'Shyam', 'age': 45, 'add': 'Patan'}, {'name': 'Nabin', 'age': 45, 'add': 'Bara'}]\n"
     ]
    }
   ],
   "source": [
    "#dict inside list\n",
    "a = [{\"name\":\"Ram\",\"age\":34,\"add\":\"Kathmandu\"},\n",
    "     {\"name\":\"Shyam\",\"age\":45,\"add\":\"Patan\"},\n",
    "    {\"name\":\"Nabin\",\"age\":45,\"add\":\"Bara\"}]\n",
    "print(a)"
   ]
  },
  {
   "cell_type": "code",
   "execution_count": 4,
   "id": "dd7eb894",
   "metadata": {},
   "outputs": [
    {
     "name": "stdout",
     "output_type": "stream",
     "text": [
      "{'name': 'Ram', 'age': 34, 'add': 'Kathmandu'}\n",
      "{'name': 'Shyam', 'age': 45, 'add': 'Patan'}\n",
      "{'name': 'Nabin', 'age': 45, 'add': 'Bara'}\n"
     ]
    }
   ],
   "source": [
    "for i in a:\n",
    "    print(i)"
   ]
  },
  {
   "cell_type": "code",
   "execution_count": 5,
   "id": "01f41132",
   "metadata": {},
   "outputs": [
    {
     "name": "stdout",
     "output_type": "stream",
     "text": [
      "Enter n = 2\n",
      "Enter name = ram\n",
      "Enter age = 34\n",
      "Enter add = kathmandu\n",
      "Enter name = shyam\n",
      "Enter age = 45\n",
      "Enter add = patan\n",
      "[{'name': 'ram', 'age': '34', 'add': 'kathmandu'}, {'name': 'shyam', 'age': '45', 'add': 'patan'}]\n"
     ]
    }
   ],
   "source": [
    "data = []\n",
    "n = int(input(\"Enter n = \"))\n",
    "for i in range(n):\n",
    "    name = input(\"Enter name = \")\n",
    "    age = input(\"Enter age = \")\n",
    "    add = input(\"Enter add = \")\n",
    "    info = {\"name\":name,\"age\":age,\"add\":add}\n",
    "    data.append(info)     \n",
    "print(data)"
   ]
  },
  {
   "cell_type": "code",
   "execution_count": 6,
   "id": "78314efe",
   "metadata": {},
   "outputs": [
    {
     "name": "stdout",
     "output_type": "stream",
     "text": [
      "{'name': 'ram', 'age': '34', 'add': 'kathmandu'}\n"
     ]
    }
   ],
   "source": [
    "a = [{'name': 'ram', 'age': '34', 'add': 'kathmandu'}, \n",
    "     {'name': 'shyam', 'age': '45', 'add': 'patan'}]\n",
    "print(a[0])"
   ]
  },
  {
   "cell_type": "code",
   "execution_count": 7,
   "id": "fcbb0db0",
   "metadata": {},
   "outputs": [
    {
     "name": "stdout",
     "output_type": "stream",
     "text": [
      "ram\n"
     ]
    }
   ],
   "source": [
    "a = [{'name': 'ram', 'age': '34', 'add': 'kathmandu'}, \n",
    "     {'name': 'shyam', 'age': '45', 'add': 'patan'}]\n",
    "print(a[0][\"name\"])"
   ]
  },
  {
   "cell_type": "code",
   "execution_count": 8,
   "id": "a121c36f",
   "metadata": {},
   "outputs": [
    {
     "data": {
      "text/plain": [
       "[{'name': 'Ram Prasad', 'age': '34', 'add': 'kathmandu'},\n",
       " {'name': 'shyam', 'age': '45', 'add': 'patan'}]"
      ]
     },
     "execution_count": 8,
     "metadata": {},
     "output_type": "execute_result"
    }
   ],
   "source": [
    "a = [{'name': 'ram', 'age': '34', 'add': 'kathmandu'}, \n",
    "     {'name': 'shyam', 'age': '45', 'add': 'patan'}]\n",
    "a[0][\"name\"]=\"Ram Prasad\"\n",
    "a"
   ]
  },
  {
   "cell_type": "code",
   "execution_count": 15,
   "id": "facc46d9",
   "metadata": {},
   "outputs": [
    {
     "data": {
      "text/plain": [
       "{1: {'name': 'Aayush', 'age': 20, 'add': 'Kathmandu'},\n",
       " 2: {'name': 'Sabin', 'age': 40, 'add': 'Bhaktapur'}}"
      ]
     },
     "execution_count": 15,
     "metadata": {},
     "output_type": "execute_result"
    }
   ],
   "source": [
    "#dict inside dict\n",
    "a = {1:{\"name\":\"Aayush\",\"age\":20,\"add\":\"Kathmandu\"},\n",
    "        2:{\"name\":\"Sabin\",\"age\":40,\"add\":\"Bhaktapur\"}}\n",
    "a"
   ]
  },
  {
   "cell_type": "code",
   "execution_count": 16,
   "id": "6746b847",
   "metadata": {},
   "outputs": [
    {
     "data": {
      "text/plain": [
       "'Aayush'"
      ]
     },
     "execution_count": 16,
     "metadata": {},
     "output_type": "execute_result"
    }
   ],
   "source": [
    "a[1][\"name\"]"
   ]
  },
  {
   "cell_type": "code",
   "execution_count": 17,
   "id": "baa9e105",
   "metadata": {},
   "outputs": [
    {
     "data": {
      "text/plain": [
       "{1: {'name': 'Aayush', 'age': 20, 'add': 'Kathmandu'},\n",
       " 2: {'name': 'Sabin', 'age': 40, 'add': 'Bhaktapur'},\n",
       " 3: {'name': 'Sabina', 'age': 41, 'add': 'Bhaktapur'}}"
      ]
     },
     "execution_count": 17,
     "metadata": {},
     "output_type": "execute_result"
    }
   ],
   "source": [
    "a[3]={\"name\":\"Sabina\",\"age\":41,\"add\":\"Bhaktapur\"}\n",
    "a"
   ]
  },
  {
   "cell_type": "code",
   "execution_count": 20,
   "id": "d883185e",
   "metadata": {},
   "outputs": [
    {
     "name": "stdout",
     "output_type": "stream",
     "text": [
      "Enter n = 1\n",
      "Enter name = Ram \n",
      "Enter age = 34\n",
      "Enter add = Kathmandu\n",
      "{1: {'name': 'Ram ', 'age': '34', 'add': 'Kathmandu'}}\n"
     ]
    }
   ],
   "source": [
    "data = {}\n",
    "n = int(input(\"Enter n = \"))\n",
    "for i in range(1,n+1):\n",
    "    name = input(\"Enter name = \")\n",
    "    age = input(\"Enter age = \")\n",
    "    add = input(\"Enter add = \")\n",
    "    data[i] = {\"name\":name,\"age\":age,\"add\":add}    \n",
    "print(data)"
   ]
  },
  {
   "cell_type": "code",
   "execution_count": null,
   "id": "d21b2af7",
   "metadata": {},
   "outputs": [],
   "source": []
  }
 ],
 "metadata": {
  "kernelspec": {
   "display_name": "Python 3 (ipykernel)",
   "language": "python",
   "name": "python3"
  },
  "language_info": {
   "codemirror_mode": {
    "name": "ipython",
    "version": 3
   },
   "file_extension": ".py",
   "mimetype": "text/x-python",
   "name": "python",
   "nbconvert_exporter": "python",
   "pygments_lexer": "ipython3",
   "version": "3.9.7"
  }
 },
 "nbformat": 4,
 "nbformat_minor": 5
}
