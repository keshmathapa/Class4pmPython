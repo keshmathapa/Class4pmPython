{
 "cells": [
  {
   "cell_type": "code",
   "execution_count": 1,
   "id": "3b277641",
   "metadata": {},
   "outputs": [],
   "source": [
    "# read -> r\n",
    "# write -> w\n",
    "# append -> a\n",
    "# create -> x"
   ]
  },
  {
   "cell_type": "code",
   "execution_count": 5,
   "id": "df41e95d",
   "metadata": {},
   "outputs": [
    {
     "name": "stdout",
     "output_type": "stream",
     "text": [
      "the file is already there\n"
     ]
    }
   ],
   "source": [
    "try:\n",
    "    b = open('data.txt','x')\n",
    "    b.close()\n",
    "except:\n",
    "    print(\"the file is already there\")"
   ]
  },
  {
   "cell_type": "code",
   "execution_count": 27,
   "id": "db9598d2",
   "metadata": {},
   "outputs": [
    {
     "name": "stdout",
     "output_type": "stream",
     "text": [
      "1.Hello world\n",
      "2.I am python\n",
      "3.I do not understand\n",
      "4.Life is weird\n",
      "5.what the hell\n",
      "6.Hello World\n",
      "7.Hello World\n"
     ]
    }
   ],
   "source": [
    "with open('data.txt','r') as file:\n",
    "    print(file.read())"
   ]
  },
  {
   "cell_type": "code",
   "execution_count": 28,
   "id": "4d7aa90e",
   "metadata": {},
   "outputs": [
    {
     "name": "stdout",
     "output_type": "stream",
     "text": [
      "1.Hello world\n",
      "2.I am python\n",
      "3.I do not understand\n",
      "4.Life is weird\n",
      "5.what the hell\n",
      "6.Hello World\n",
      "7.Hello World\n",
      "<class 'str'>\n"
     ]
    }
   ],
   "source": [
    "file = open('data.txt','r')\n",
    "x = file.read()\n",
    "print(x)\n",
    "print(type(x))\n",
    "file.close()"
   ]
  },
  {
   "cell_type": "code",
   "execution_count": 29,
   "id": "abeb4980",
   "metadata": {},
   "outputs": [
    {
     "name": "stdout",
     "output_type": "stream",
     "text": [
      "1.Hello world\n",
      "\n",
      "<class 'str'>\n"
     ]
    }
   ],
   "source": [
    "# read()\n",
    "# read line()\n",
    "file = open('data.txt','r')\n",
    "x = file.readline()\n",
    "\n",
    "print(x)\n",
    "print(type(x))\n",
    "file.close()"
   ]
  },
  {
   "cell_type": "code",
   "execution_count": 30,
   "id": "0fd34342",
   "metadata": {},
   "outputs": [
    {
     "name": "stdout",
     "output_type": "stream",
     "text": [
      "1.H\n",
      "<class 'str'>\n"
     ]
    }
   ],
   "source": [
    "file = open('data.txt','r')\n",
    "x = file.readline(3)\n",
    "\n",
    "print(x)\n",
    "print(type(x))\n",
    "file.close()"
   ]
  },
  {
   "cell_type": "code",
   "execution_count": 17,
   "id": "53526767",
   "metadata": {},
   "outputs": [
    {
     "name": "stdout",
     "output_type": "stream",
     "text": [
      "\n",
      "<class 'str'>\n"
     ]
    }
   ],
   "source": [
    "# read()\n",
    "# readline()\n",
    "file = open('data.txt','r')\n",
    "print(file.readline())\n",
    "x = file.readline(1)\n",
    "\n",
    "file.readline()\n",
    "\n",
    "print(type(x))\n",
    "file.close()"
   ]
  },
  {
   "cell_type": "code",
   "execution_count": 31,
   "id": "d91cdb3c",
   "metadata": {},
   "outputs": [
    {
     "name": "stdout",
     "output_type": "stream",
     "text": [
      "Enter n = 3\n",
      "3.I do not understand\n",
      "\n"
     ]
    }
   ],
   "source": [
    "# read()\n",
    "# readline()\n",
    "file = open('data.txt','r')\n",
    "n = int(input(\"Enter n = \"))\n",
    "for i in range(1,n+1):\n",
    "    if i == n:\n",
    "        print(file.readline())\n",
    "    else: \n",
    "        file.readline()\n",
    "\n",
    "#file.readline()\n",
    "\n",
    "file.close()"
   ]
  },
  {
   "cell_type": "code",
   "execution_count": 26,
   "id": "7275950b",
   "metadata": {},
   "outputs": [],
   "source": [
    "# write and append\n",
    "with open('data.txt','a') as file:\n",
    "    file.write(\"\\n7.Hello World\")"
   ]
  },
  {
   "cell_type": "code",
   "execution_count": null,
   "id": "aaae9831",
   "metadata": {},
   "outputs": [],
   "source": [
    "# file in read(r) mode can not append\n",
    "# file in create(x) mode can not write, append\n",
    "\n",
    "# file in append mode or write mode can write"
   ]
  },
  {
   "cell_type": "code",
   "execution_count": 35,
   "id": "83d27134",
   "metadata": {},
   "outputs": [
    {
     "name": "stdout",
     "output_type": "stream",
     "text": [
      "Enter n = 2\n",
      "Enter product name = MOMO\n",
      "Enter price = 150\n",
      "Enter quantity = 4\n",
      "Enter product name = COKE\n",
      "Enter price = 75\n",
      "Enter quantity = 5\n",
      "MOMO,150,4,600\n",
      "COKE,75,5,375\n",
      "\n"
     ]
    }
   ],
   "source": [
    "s = str()\n",
    "n = int(input(\"Enter n = \"))\n",
    "for i in range(n):\n",
    "    product = input(\"Enter product name = \")\n",
    "    price = int(input(\"Enter price = \"))\n",
    "    quantity = int(input(\"Enter quantity = \"))\n",
    "    total = price*quantity\n",
    "    s = s+f\"{product},{price},{quantity},{total}\\n\"\n",
    "    \n",
    "print(s)\n",
    "\n",
    "file = open('bill.csv','w')\n",
    "file.write('Name,Price,Quantity,Total\\n')\n",
    "file.write(s)\n",
    "file.close()"
   ]
  },
  {
   "cell_type": "code",
   "execution_count": null,
   "id": "d5c9fee1",
   "metadata": {},
   "outputs": [],
   "source": [
    "#.csv for excel, .json for web, .txt for word"
   ]
  }
 ],
 "metadata": {
  "kernelspec": {
   "display_name": "Python 3 (ipykernel)",
   "language": "python",
   "name": "python3"
  },
  "language_info": {
   "codemirror_mode": {
    "name": "ipython",
    "version": 3
   },
   "file_extension": ".py",
   "mimetype": "text/x-python",
   "name": "python",
   "nbconvert_exporter": "python",
   "pygments_lexer": "ipython3",
   "version": "3.9.7"
  }
 },
 "nbformat": 4,
 "nbformat_minor": 5
}
