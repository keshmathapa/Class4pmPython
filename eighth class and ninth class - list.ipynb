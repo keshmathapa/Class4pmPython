{
 "cells": [
  {
   "cell_type": "code",
   "execution_count": 1,
   "id": "4477834f",
   "metadata": {},
   "outputs": [],
   "source": [
    "# Python Collections\n",
    "# List\n",
    "# Tuple\n",
    "# Dictionary\n",
    "# Set"
   ]
  },
  {
   "cell_type": "code",
   "execution_count": 2,
   "id": "8aab6e77",
   "metadata": {},
   "outputs": [],
   "source": [
    "# # List\n",
    "# -Indexed\n",
    "# -Ordered\n",
    "# -Duplicate Members\n",
    "# -Mutable"
   ]
  },
  {
   "cell_type": "code",
   "execution_count": 3,
   "id": "0d85c8dc",
   "metadata": {},
   "outputs": [
    {
     "name": "stdout",
     "output_type": "stream",
     "text": [
      "['Apple', 'Ball']\n",
      "[1, 2, 3, 4, 5]\n",
      "<class 'list'>\n",
      "<class 'list'>\n"
     ]
    }
   ],
   "source": [
    "a = [\"Apple\",\"Ball\"]\n",
    "b = [1,2,3,4,5]\n",
    "print(a)\n",
    "print(b)\n",
    "\n",
    "print(type(a))\n",
    "print(type(b))"
   ]
  },
  {
   "cell_type": "code",
   "execution_count": 4,
   "id": "07c6cdf8",
   "metadata": {},
   "outputs": [
    {
     "name": "stdout",
     "output_type": "stream",
     "text": [
      "2\n",
      "5\n"
     ]
    }
   ],
   "source": [
    "print(len(a))\n",
    "print(len(b))"
   ]
  },
  {
   "cell_type": "code",
   "execution_count": 5,
   "id": "0c2c7b3a",
   "metadata": {},
   "outputs": [
    {
     "name": "stdout",
     "output_type": "stream",
     "text": [
      "Ball\n"
     ]
    }
   ],
   "source": [
    "a = [\"Apple\",\"Ball\",\"Cat\",\"Dog\",\"Fish\"]\n",
    "print(a[1])"
   ]
  },
  {
   "cell_type": "code",
   "execution_count": 6,
   "id": "58a7cf6e",
   "metadata": {},
   "outputs": [
    {
     "name": "stdout",
     "output_type": "stream",
     "text": [
      "['Apple', 'Ball', 'Cat']\n"
     ]
    }
   ],
   "source": [
    "a = [\"Apple\",\"Ball\",\"Cat\",\"Dog\",\"Fish\"]\n",
    "print(a[0:3])"
   ]
  },
  {
   "cell_type": "code",
   "execution_count": 7,
   "id": "b8e8f751",
   "metadata": {},
   "outputs": [
    {
     "name": "stdout",
     "output_type": "stream",
     "text": [
      "['Apple', 'Cat', 'Fish']\n"
     ]
    }
   ],
   "source": [
    "a = [\"Apple\",\"Ball\",\"Cat\",\"Dog\",\"Fish\"]\n",
    "print(a[0:6:2])"
   ]
  },
  {
   "cell_type": "code",
   "execution_count": 8,
   "id": "bf90045b",
   "metadata": {},
   "outputs": [
    {
     "name": "stdout",
     "output_type": "stream",
     "text": [
      "['Apple', 'Ball', 'Cat', 'Dog', 'Fish', 'Dog', 'Cat']\n"
     ]
    }
   ],
   "source": [
    "a = [\"Apple\",\"Ball\",\"Cat\",\"Dog\",\"Fish\"]\n",
    "b = [\"Dog\",\"Cat\"]\n",
    "c = a+b\n",
    "print(c)"
   ]
  },
  {
   "cell_type": "code",
   "execution_count": 9,
   "id": "6f6b3cf4",
   "metadata": {},
   "outputs": [
    {
     "name": "stdout",
     "output_type": "stream",
     "text": [
      "['Dog', 'Cat', 'Apple', 'Ball', 'Cat', 'Dog', 'Fish']\n"
     ]
    }
   ],
   "source": [
    "#ordered\n",
    "a = [\"Apple\",\"Ball\",\"Cat\",\"Dog\",\"Fish\"]\n",
    "b = [\"Dog\",\"Cat\"]\n",
    "c = b+a\n",
    "print(c)"
   ]
  },
  {
   "cell_type": "code",
   "execution_count": 10,
   "id": "52d86eba",
   "metadata": {
    "scrolled": true
   },
   "outputs": [
    {
     "name": "stdout",
     "output_type": "stream",
     "text": [
      "Apple\n",
      "Ball\n",
      "Cat\n",
      "Dog\n",
      "Fish\n"
     ]
    }
   ],
   "source": [
    "a = [\"Apple\",\"Ball\",\"Cat\",\"Dog\",\"Fish\"]\n",
    "for i in a:\n",
    "    print(i)"
   ]
  },
  {
   "cell_type": "code",
   "execution_count": 11,
   "id": "e3d20032",
   "metadata": {},
   "outputs": [
    {
     "name": "stdout",
     "output_type": "stream",
     "text": [
      "Apple\n",
      "Ball\n"
     ]
    }
   ],
   "source": [
    "a = [\"Apple\",\"Ball\",\"Cat\",\"Dog\",\"Fish\"]\n",
    "for i in a:\n",
    "    if i == \"Cat\":\n",
    "        break\n",
    "    print(i)"
   ]
  },
  {
   "cell_type": "code",
   "execution_count": 12,
   "id": "c884d175",
   "metadata": {},
   "outputs": [
    {
     "name": "stdout",
     "output_type": "stream",
     "text": [
      "Apple\n",
      "Ball\n",
      "Dog\n",
      "Fish\n"
     ]
    }
   ],
   "source": [
    "a = [\"Apple\",\"Ball\",\"Cat\",\"Dog\",\"Fish\"]\n",
    "for i in a:\n",
    "    if i == \"Cat\":\n",
    "        continue\n",
    "    print(i)"
   ]
  },
  {
   "cell_type": "code",
   "execution_count": 5,
   "id": "1a7846e6",
   "metadata": {},
   "outputs": [
    {
     "name": "stdout",
     "output_type": "stream",
     "text": [
      "Enter n = 2\n",
      "Enter name = Ram \n",
      "Enter name = Shyam\n",
      "['Ram ', 'Shyam']\n"
     ]
    }
   ],
   "source": [
    "names = list()\n",
    "n = int(input(\"Enter n = \"))\n",
    "for i in range(n):\n",
    "    name = input(\"Enter name = \")\n",
    "#   names = names + [name]\n",
    "    names.append(name)\n",
    "print(names)"
   ]
  },
  {
   "cell_type": "code",
   "execution_count": 1,
   "id": "56288351",
   "metadata": {},
   "outputs": [
    {
     "name": "stdout",
     "output_type": "stream",
     "text": [
      "Enter n = 5\n",
      "Enter name = 234\n",
      "Enter name = 466\n",
      "Enter name = 345\n",
      "Enter name = 5675\n",
      "Enter name = 345\n",
      "[234, 466, 345, 5675, 345]\n"
     ]
    }
   ],
   "source": [
    "names = list()\n",
    "n = int(input(\"Enter n = \"))\n",
    "for i in range(n):\n",
    "    name = int(input(\"Enter name = \"))\n",
    "#   names = names + [name]\n",
    "    names.append(name)\n",
    "print(names)"
   ]
  },
  {
   "cell_type": "code",
   "execution_count": 3,
   "id": "a7c95efa",
   "metadata": {},
   "outputs": [
    {
     "name": "stdout",
     "output_type": "stream",
     "text": [
      "sum of number is =  7065\n",
      "The max value 5675\n",
      "The min value 234\n",
      "[234, 345, 345, 466, 5675]\n"
     ]
    }
   ],
   "source": [
    "print(\"sum of number is = \",sum(names))\n",
    "print(\"The max value\", max(names))\n",
    "print(\"The min value\", min(names))\n",
    "names.sort()\n",
    "print(names)"
   ]
  },
  {
   "cell_type": "code",
   "execution_count": 4,
   "id": "d7c45bec",
   "metadata": {},
   "outputs": [
    {
     "name": "stdout",
     "output_type": "stream",
     "text": [
      "sum of number is =  7065\n",
      "The max value 5675\n",
      "The min value 234\n",
      "[234, 345, 345, 466, 5675]\n",
      "[5675, 466, 345, 345, 234]\n"
     ]
    }
   ],
   "source": [
    "print(\"sum of number is = \",sum(names))\n",
    "print(\"The max value\", max(names))\n",
    "print(\"The min value\", min(names))\n",
    "names.sort()\n",
    "print(names)\n",
    "names.reverse()\n",
    "print(names)"
   ]
  },
  {
   "cell_type": "code",
   "execution_count": 6,
   "id": "834b1f3e",
   "metadata": {},
   "outputs": [
    {
     "name": "stdout",
     "output_type": "stream",
     "text": [
      "['Akash', 'Hari', 'Nabin', 'Sita', 'nita']\n"
     ]
    }
   ],
   "source": [
    "a = [\"Hari\",\"Sita\",\"Akash\",\"Nabin\",\"nita\"]\n",
    "a.sort()\n",
    "print(a)"
   ]
  },
  {
   "cell_type": "code",
   "execution_count": 7,
   "id": "757164d4",
   "metadata": {},
   "outputs": [
    {
     "data": {
      "text/plain": [
       "['Hari', 'Binam', 'Sita', 'Akash', 'Nabin', 'nita']"
      ]
     },
     "execution_count": 7,
     "metadata": {},
     "output_type": "execute_result"
    }
   ],
   "source": [
    "#insert()\n",
    "a = [\"Hari\",\"Sita\",\"Akash\",\"Nabin\",\"nita\"]\n",
    "a.insert(1,\"Binam\")\n",
    "a"
   ]
  },
  {
   "cell_type": "code",
   "execution_count": 8,
   "id": "35d8eb4f",
   "metadata": {},
   "outputs": [
    {
     "name": "stdout",
     "output_type": "stream",
     "text": [
      "['Hari', 'Sita', 'Akash', 'Nabin', 'nita', 1, 2, 3, 4]\n"
     ]
    }
   ],
   "source": [
    "#extend()\n",
    "a = [\"Hari\",\"Sita\",\"Akash\",\"Nabin\",\"nita\"]\n",
    "b = [1,2,3,4]\n",
    "a.extend(b)\n",
    "print(a)"
   ]
  },
  {
   "cell_type": "code",
   "execution_count": 9,
   "id": "07eccc6e",
   "metadata": {},
   "outputs": [
    {
     "data": {
      "text/plain": [
       "['Hari', 1, 2, 3, 4, 'Sita', 'Akash', 'Nabin', 'nita']"
      ]
     },
     "execution_count": 9,
     "metadata": {},
     "output_type": "execute_result"
    }
   ],
   "source": [
    "#use slicing\n",
    "a = [\"Hari\",\"Sita\",\"Akash\",\"Nabin\",\"nita\"]\n",
    "b = [1,2,3,4]\n",
    "x = [a[0]]\n",
    "c = x+b+a[1:]\n",
    "c"
   ]
  },
  {
   "cell_type": "code",
   "execution_count": 11,
   "id": "00860694",
   "metadata": {},
   "outputs": [
    {
     "data": {
      "text/plain": [
       "['Harry', 'Sita', 'Akash', 'Nabin', 'nita']"
      ]
     },
     "execution_count": 11,
     "metadata": {},
     "output_type": "execute_result"
    }
   ],
   "source": [
    "a = [\"Hari\",\"Sita\",\"Akash\",\"Nabin\",\"nita\"]\n",
    "a[0]= \"Harry\"\n",
    "a"
   ]
  },
  {
   "cell_type": "code",
   "execution_count": 12,
   "id": "5027ff46",
   "metadata": {},
   "outputs": [
    {
     "data": {
      "text/plain": [
       "['Harry', 'Sam', 'Akash', 'Nabin', 'nita']"
      ]
     },
     "execution_count": 12,
     "metadata": {},
     "output_type": "execute_result"
    }
   ],
   "source": [
    "a = [\"Hari\",\"Sita\",\"Akash\",\"Nabin\",\"nita\"]\n",
    "a[0:2]= [\"Harry\",\"Sam\"]\n",
    "a"
   ]
  },
  {
   "cell_type": "code",
   "execution_count": 13,
   "id": "a9e8469c",
   "metadata": {},
   "outputs": [
    {
     "name": "stdout",
     "output_type": "stream",
     "text": [
      "['Sita', 'Akash', 'Nabin', 'nita']\n"
     ]
    }
   ],
   "source": [
    "# del remove() pop()\n",
    "a = [\"Hari\",\"Sita\",\"Akash\",\"Nabin\",\"nita\"]\n",
    "del a[0]\n",
    "print(a)"
   ]
  },
  {
   "cell_type": "code",
   "execution_count": 15,
   "id": "53670705",
   "metadata": {},
   "outputs": [
    {
     "name": "stdout",
     "output_type": "stream",
     "text": [
      "['Nabin', 'nita']\n"
     ]
    }
   ],
   "source": [
    "a = [\"Hari\",\"Sita\",\"Akash\",\"Nabin\",\"nita\"]\n",
    "del a[0:3]\n",
    "print(a)"
   ]
  },
  {
   "cell_type": "code",
   "execution_count": 16,
   "id": "30fdef9b",
   "metadata": {},
   "outputs": [
    {
     "name": "stdout",
     "output_type": "stream",
     "text": [
      "['Sita', 'Akash', 'Nabin', 'nita']\n"
     ]
    }
   ],
   "source": [
    "a = [\"Hari\",\"Sita\",\"Akash\",\"Nabin\",\"nita\"]\n",
    "a.remove(\"Hari\")\n",
    "print(a)"
   ]
  },
  {
   "cell_type": "code",
   "execution_count": 17,
   "id": "186aee81",
   "metadata": {},
   "outputs": [
    {
     "name": "stdout",
     "output_type": "stream",
     "text": [
      "['Sita', 'Akash', 'Nabin', 'nita', 'Hari']\n"
     ]
    }
   ],
   "source": [
    "a = [\"Hari\",\"Sita\",\"Akash\",\"Nabin\",\"nita\",\"Hari\"]\n",
    "a.remove(\"Hari\")\n",
    "print(a)"
   ]
  },
  {
   "cell_type": "code",
   "execution_count": 19,
   "id": "d09d56d6",
   "metadata": {},
   "outputs": [
    {
     "name": "stdout",
     "output_type": "stream",
     "text": [
      "['Sita', 'Akash', 'Nabin', 'nita']\n"
     ]
    }
   ],
   "source": [
    "a = [\"Hari\",\"Sita\",\"Akash\",\"Nabin\",\"nita\",\"Hari\"]\n",
    "for i in a:\n",
    "    if i == \"Hari\":\n",
    "        a.remove(\"Hari\")\n",
    "    \n",
    "print(a)"
   ]
  },
  {
   "cell_type": "code",
   "execution_count": 20,
   "id": "c577b236",
   "metadata": {},
   "outputs": [
    {
     "name": "stdout",
     "output_type": "stream",
     "text": [
      "0\n",
      "5\n"
     ]
    }
   ],
   "source": [
    "a = [\"Hari\",\"Sita\",\"Akash\",\"Nabin\",\"nita\",\"Hari\"]\n",
    "for i in range(len(a)):\n",
    "    if a[i] == \"Hari\":\n",
    "        print(i)"
   ]
  },
  {
   "cell_type": "code",
   "execution_count": 23,
   "id": "7b08a845",
   "metadata": {},
   "outputs": [
    {
     "name": "stdout",
     "output_type": "stream",
     "text": [
      "['Hari', 'Sita', 'Akash', 'nita', 'Hari']\n"
     ]
    }
   ],
   "source": [
    "#pop() -> moves data\n",
    "a = [\"Hari\",\"Sita\",\"Akash\",\"Nabin\",\"nita\",\"Hari\"]\n",
    "a.pop(3)\n",
    "print(a)"
   ]
  },
  {
   "cell_type": "code",
   "execution_count": 25,
   "id": "24b3c5f0",
   "metadata": {},
   "outputs": [
    {
     "name": "stdout",
     "output_type": "stream",
     "text": [
      "['Hari', 'Sita', 'Akash', 'nita', 'Hari']\n",
      "Nabin\n"
     ]
    }
   ],
   "source": [
    "a = [\"Hari\",\"Sita\",\"Akash\",\"Nabin\",\"nita\",\"Hari\"]\n",
    "b = a.pop(3)\n",
    "print(a)\n",
    "print(b)"
   ]
  },
  {
   "cell_type": "code",
   "execution_count": 26,
   "id": "8f2ca312",
   "metadata": {},
   "outputs": [
    {
     "name": "stdout",
     "output_type": "stream",
     "text": [
      "<class 'list'>\n"
     ]
    }
   ],
   "source": [
    "#list inside list\n",
    "a = [[1,2,3],\n",
    "     [4,5,6],\n",
    "     [7,8,9]]\n",
    "print(type(a))"
   ]
  },
  {
   "cell_type": "code",
   "execution_count": 28,
   "id": "01754f9a",
   "metadata": {},
   "outputs": [
    {
     "name": "stdout",
     "output_type": "stream",
     "text": [
      "['Ram', 34, 'Kathmandu']\n",
      "[['Ram', 34, 'Kathmandu'], ['Shyam', 34, 'Bhaktapur']]\n"
     ]
    }
   ],
   "source": [
    "a = [[\"Ram\",34,\"Kathmandu\"],\n",
    "     [\"Shyam\",34,\"Bhaktapur\"],\n",
    "     [\"Siva\",23,\"Patan\"]]\n",
    "print(a[0])\n",
    "print(a[0:2])                      "
   ]
  },
  {
   "cell_type": "code",
   "execution_count": 29,
   "id": "af41d8f7",
   "metadata": {},
   "outputs": [
    {
     "name": "stdout",
     "output_type": "stream",
     "text": [
      "[['Ram', 34, 'Kathmandu'], ['Shyam', 34, 'Bhaktapur'], 'Nabin', 56, 'Bara']\n"
     ]
    }
   ],
   "source": [
    "a = [[\"Ram\",34,\"Kathmandu\"],[\"Shyam\",34,\"Bhaktapur\"]]\n",
    "b = [\"Nabin\",56,\"Bara\"]\n",
    "c = a+b\n",
    "print(c)"
   ]
  },
  {
   "cell_type": "code",
   "execution_count": 30,
   "id": "1ac5dd10",
   "metadata": {},
   "outputs": [
    {
     "data": {
      "text/plain": [
       "[['Ram', 34, 'Kathmandu'], ['Shyam', 34, 'Bhaktapur'], ['Nabin', 56, 'Bara']]"
      ]
     },
     "execution_count": 30,
     "metadata": {},
     "output_type": "execute_result"
    }
   ],
   "source": [
    "a = [[\"Ram\",34,\"Kathmandu\"],[\"Shyam\",34,\"Bhaktapur\"]]\n",
    "b = [\"Nabin\",56,\"Bara\"]\n",
    "a.append(b)\n",
    "a"
   ]
  },
  {
   "cell_type": "code",
   "execution_count": 32,
   "id": "5fb08c45",
   "metadata": {},
   "outputs": [
    {
     "name": "stdout",
     "output_type": "stream",
     "text": [
      "Enter n = 2\n",
      "Enter name = Ram \n",
      "Enter age = 55\n",
      "Enter add = Kathmandu\n",
      "Enter name = Shyam\n",
      "Enter age = 44\n",
      "Enter add = Bhaktapur\n",
      "[['Ram ', 55, 'Kathmandu'], ['Shyam', 44, 'Bhaktapur']]\n"
     ]
    }
   ],
   "source": [
    "data = []\n",
    "n = int(input(\"Enter n = \"))\n",
    "for i in range(n):\n",
    "    name = input(\"Enter name = \")\n",
    "    age = int(input(\"Enter age = \"))\n",
    "    add = input(\"Enter add = \")\n",
    "    info = [name,age,add]\n",
    "    data.append(info)\n",
    "print(data)"
   ]
  },
  {
   "cell_type": "code",
   "execution_count": 33,
   "id": "df553e49",
   "metadata": {},
   "outputs": [
    {
     "name": "stdout",
     "output_type": "stream",
     "text": [
      "Enter name = Ram\n",
      "['Ram', 55, 'Kathmandu']\n"
     ]
    }
   ],
   "source": [
    "#for data\n",
    "a = [['Ram', 55, 'Kathmandu'], ['Shyam', 44, 'Bhaktapur']]\n",
    "name = input(\"Enter name = \")\n",
    "for i in a:\n",
    "    if name in i:\n",
    "        print(i)"
   ]
  },
  {
   "cell_type": "code",
   "execution_count": 35,
   "id": "42d1b8df",
   "metadata": {},
   "outputs": [
    {
     "name": "stdout",
     "output_type": "stream",
     "text": [
      "Enter name = Shyam\n",
      "1\n"
     ]
    }
   ],
   "source": [
    "#for index\n",
    "a = [['Ram', 55, 'Kathmandu'], ['Shyam', 44, 'Bhaktapur']]\n",
    "name = input(\"Enter name = \")\n",
    "for i in range(len(a)):\n",
    "    if name in a[i]:\n",
    "        print(i)"
   ]
  },
  {
   "cell_type": "code",
   "execution_count": 36,
   "id": "3f36537b",
   "metadata": {},
   "outputs": [
    {
     "data": {
      "text/plain": [
       "['Ram', 55, 'Kathmandu']"
      ]
     },
     "execution_count": 36,
     "metadata": {},
     "output_type": "execute_result"
    }
   ],
   "source": [
    "a = [['Ram', 55, 'Kathmandu'], \n",
    "     ['Shyam', 44, 'Bhaktapur']]\n",
    "a[0]"
   ]
  },
  {
   "cell_type": "code",
   "execution_count": 37,
   "id": "30e48ea6",
   "metadata": {},
   "outputs": [
    {
     "data": {
      "text/plain": [
       "'Ram'"
      ]
     },
     "execution_count": 37,
     "metadata": {},
     "output_type": "execute_result"
    }
   ],
   "source": [
    "a = [['Ram', 55, 'Kathmandu'], \n",
    "     ['Shyam', 44, 'Bhaktapur']]\n",
    "a[0][0]"
   ]
  },
  {
   "cell_type": "code",
   "execution_count": 38,
   "id": "5cc32be6",
   "metadata": {},
   "outputs": [
    {
     "data": {
      "text/plain": [
       "[['Ram Prasad', 55, 'Kathmandu'], ['Shyam', 44, 'Bhaktapur']]"
      ]
     },
     "execution_count": 38,
     "metadata": {},
     "output_type": "execute_result"
    }
   ],
   "source": [
    "#to update\n",
    "a = [['Ram', 55, 'Kathmandu'], \n",
    "     ['Shyam', 44, 'Bhaktapur']]\n",
    "a[0][0] = \"Ram Prasad\"\n",
    "a"
   ]
  },
  {
   "cell_type": "code",
   "execution_count": 40,
   "id": "2c562165",
   "metadata": {},
   "outputs": [
    {
     "data": {
      "text/plain": [
       "[['Rama', 74, 'Lalitpur'], ['Shyam', 44, 'Bhaktapur']]"
      ]
     },
     "execution_count": 40,
     "metadata": {},
     "output_type": "execute_result"
    }
   ],
   "source": [
    "a = [['Ram', 55, 'Kathmandu'], \n",
    "     ['Shyam', 44, 'Bhaktapur']]\n",
    "a[0] = ['Rama', 74, 'Lalitpur']\n",
    "a"
   ]
  },
  {
   "cell_type": "code",
   "execution_count": 42,
   "id": "b09bf684",
   "metadata": {},
   "outputs": [
    {
     "name": "stdout",
     "output_type": "stream",
     "text": [
      "[[55, 'Kathmandu'], ['Shyam', 44, 'Bhaktapur']]\n"
     ]
    }
   ],
   "source": [
    "a = [['Ram', 55, 'Kathmandu'], \n",
    "     ['Shyam', 44, 'Bhaktapur']]\n",
    "del a[0][0]\n",
    "print(a)"
   ]
  },
  {
   "cell_type": "code",
   "execution_count": 43,
   "id": "28c75937",
   "metadata": {},
   "outputs": [
    {
     "name": "stdout",
     "output_type": "stream",
     "text": [
      "[['Ram', 55, 'Kathmandu']]\n"
     ]
    }
   ],
   "source": [
    "a = [['Ram', 55, 'Kathmandu'], \n",
    "     ['Shyam', 44, 'Bhaktapur']]\n",
    "a.remove(a[1])\n",
    "print(a)"
   ]
  },
  {
   "cell_type": "code",
   "execution_count": 44,
   "id": "af114145",
   "metadata": {},
   "outputs": [
    {
     "name": "stdout",
     "output_type": "stream",
     "text": [
      "Enter n = 2\n",
      "Enter product name = momo\n",
      "Enter price = 150\n",
      "Enter quantity = 3\n",
      "Enter product name = coke\n",
      "Enter price = 150\n",
      "Enter quantity = 4\n",
      "Product Price Quantity Total\n",
      "\n",
      "momo 150 3 450\n",
      "coke 150 4 600\n",
      " \n",
      "\n"
     ]
    }
   ],
   "source": [
    "s = \"\"\n",
    "n = int(input(\"Enter n = \"))\n",
    "for i in range(n):\n",
    "    name = input(\"Enter product name = \")\n",
    "    price = int(input(\"Enter price = \"))\n",
    "    quantity = int(input(\"Enter quantity = \"))\n",
    "    total = price*quantity\n",
    "    info = f\"{name} {price} {quantity} {total}\\n\"\n",
    "    s = s + info\n",
    "print(\"Product Price Quantity Total\\n\")    \n",
    "print(s,\"\\n\")"
   ]
  },
  {
   "cell_type": "code",
   "execution_count": 50,
   "id": "b56e8999",
   "metadata": {},
   "outputs": [
    {
     "data": {
      "text/plain": [
       "[['momo', '150', '3', '450'], ['coke', '150', '4', '600']]"
      ]
     },
     "execution_count": 50,
     "metadata": {},
     "output_type": "execute_result"
    }
   ],
   "source": [
    "bill = []\n",
    "data = s.split(\"\\n\")[:-1]\n",
    "for i in data:\n",
    "    bill.append(i.split())\n",
    "    \n",
    "bill"
   ]
  },
  {
   "cell_type": "code",
   "execution_count": null,
   "id": "4cc13711",
   "metadata": {},
   "outputs": [],
   "source": [
    "#list inside list \n",
    "s = \"\"\n",
    "n = int(input(\"Enter n = \"))\n",
    "for i in range(n):\n",
    "    name = input(\"Enter product name = \")\n",
    "    price = int(input(\"Enter price = \"))\n",
    "    quantity = int(input(\"Enter quantity = \"))\n",
    "    total = price*quantity\n",
    "    info = f\"{name} {price} {quantity} {total}\\n\"\n",
    "    s = s + info\n",
    "print(\"Product Price Quantity Total\\n\")    \n",
    "print(s,\"\\n\")"
   ]
  },
  {
   "cell_type": "code",
   "execution_count": null,
   "id": "4e3dfaee",
   "metadata": {},
   "outputs": [],
   "source": [
    "# WAP to develop result management system"
   ]
  }
 ],
 "metadata": {
  "kernelspec": {
   "display_name": "Python 3 (ipykernel)",
   "language": "python",
   "name": "python3"
  },
  "language_info": {
   "codemirror_mode": {
    "name": "ipython",
    "version": 3
   },
   "file_extension": ".py",
   "mimetype": "text/x-python",
   "name": "python",
   "nbconvert_exporter": "python",
   "pygments_lexer": "ipython3",
   "version": "3.9.7"
  }
 },
 "nbformat": 4,
 "nbformat_minor": 5
}
