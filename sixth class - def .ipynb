{
 "cells": [
  {
   "cell_type": "code",
   "execution_count": 4,
   "id": "853d8078",
   "metadata": {},
   "outputs": [
    {
     "name": "stdout",
     "output_type": "stream",
     "text": [
      "Hello World\n"
     ]
    }
   ],
   "source": [
    "# def <fuction_name>():\n",
    "#     <operations>\n",
    "    \n",
    "\n",
    "# <function_name>()\n",
    "\n",
    "# print() int() str() float() type()\n",
    "\n",
    "def hello():\n",
    "    print(\"Hello World\")\n",
    "    \n",
    "hello()"
   ]
  },
  {
   "cell_type": "code",
   "execution_count": 5,
   "id": "d1d19f7b",
   "metadata": {},
   "outputs": [
    {
     "name": "stdout",
     "output_type": "stream",
     "text": [
      "Hello World\n",
      "Enter y for more calculation.y\n",
      "Hello World\n",
      "Enter y for more calculation.adcd\n"
     ]
    }
   ],
   "source": [
    "def hello():\n",
    "    print(\"Hello World\")\n",
    "    x = input(\"Enter y for more calculation.\")\n",
    "    if x == 'y':\n",
    "        hello()\n",
    "    \n",
    "hello()"
   ]
  },
  {
   "cell_type": "code",
   "execution_count": null,
   "id": "17c36ce2",
   "metadata": {},
   "outputs": [],
   "source": []
  },
  {
   "cell_type": "code",
   "execution_count": 5,
   "id": "07673e40",
   "metadata": {},
   "outputs": [
    {
     "name": "stdout",
     "output_type": "stream",
     "text": [
      "Enter num = 2\n",
      "Enter y for more sum.e\n"
     ]
    }
   ],
   "source": [
    "s = 0\n",
    "def cal():\n",
    "    global s\n",
    "    num = int(input(\"Enter num = \"))\n",
    "    s = s+num \n",
    "    x = input(\"Enter y for more sum.\")\n",
    "    if x == 'y':\n",
    "        cal()\n",
    "        \n",
    "cal()"
   ]
  },
  {
   "cell_type": "code",
   "execution_count": 6,
   "id": "96343c83",
   "metadata": {},
   "outputs": [
    {
     "name": "stdout",
     "output_type": "stream",
     "text": [
      "Enter num = 4\n",
      "Enter y for more sum.y\n",
      "Enter num = 8\n",
      "Enter y for more sum.y\n",
      "Enter num = 6\n",
      "Enter y for more sum.h\n",
      "18\n"
     ]
    }
   ],
   "source": [
    "s = 0\n",
    "def cal():\n",
    "    global s\n",
    "    num = int(input(\"Enter num = \"))\n",
    "    s = s+num \n",
    "    x = input(\"Enter y for more sum.\")\n",
    "    if x == 'y':\n",
    "        cal()\n",
    "        \n",
    "cal()\n",
    "print(s)"
   ]
  },
  {
   "cell_type": "code",
   "execution_count": 2,
   "id": "11b63df1",
   "metadata": {},
   "outputs": [
    {
     "name": "stdout",
     "output_type": "stream",
     "text": [
      "Enter a =10\n",
      "Enter b = 5\n",
      "Enter + - * / /\n",
      "2.0\n"
     ]
    }
   ],
   "source": [
    "def add(a,b):\n",
    "    return a+b\n",
    "def sub(a,b):\n",
    "    return a-b\n",
    "def mul(a,b):\n",
    "    return a*b\n",
    "def div(a,b):\n",
    "    return a/b\n",
    "def cal():\n",
    "    a = int(input(\"Enter a =\"))\n",
    "    b = int(input(\"Enter b = \"))\n",
    "    o = input(\"Enter + - * / \")\n",
    "    if o == \"+\":\n",
    "        print(add (a,b))\n",
    "    elif o == \"-\":\n",
    "        print(sub (a,b))\n",
    "    elif o == \"*\":\n",
    "        print(mul (a,b))\n",
    "    elif o == \"/\" and b!=0:\n",
    "        print(div (a,b))\n",
    "    elif o == \"/\" and b == 0:\n",
    "        print (\"The value of b cannot be zero\")\n",
    "    else: \n",
    "        print (\"Invalid operator\")\n",
    "        \n",
    "cal()"
   ]
  },
  {
   "cell_type": "code",
   "execution_count": 5,
   "id": "92b3239c",
   "metadata": {},
   "outputs": [
    {
     "name": "stdout",
     "output_type": "stream",
     "text": [
      "Enter n = 5\n",
      "The factorial =  120\n"
     ]
    }
   ],
   "source": [
    "fac = 1\n",
    "i = 1\n",
    "n = int(input('Enter n = '))\n",
    "def fact(n):\n",
    "    global i,fac\n",
    "    while i<=n:\n",
    "        fac = fac * i\n",
    "        i = i+1\n",
    "    return fac\n",
    "\n",
    "print (\"The factorial = \",fact(n))"
   ]
  },
  {
   "cell_type": "code",
   "execution_count": 8,
   "id": "e511dad7",
   "metadata": {},
   "outputs": [
    {
     "name": "stdout",
     "output_type": "stream",
     "text": [
      "Enter n = 10\n",
      "10 is a composite number\n"
     ]
    }
   ],
   "source": [
    "# prime -> 2, 3, 5, 7, 11, 13, 17, 19\n",
    "# composite -> 4, 6, 8, 9, 10, 12, 15, 16, 18, 20\n",
    "i = 2\n",
    "n = int(input(\"Enter n = \"))\n",
    "def cal(n):\n",
    "    global i\n",
    "    while i<n:\n",
    "        if n%i ==0:\n",
    "            print (n, \"is a composite number\")\n",
    "            break\n",
    "        i = i+1\n",
    "    else: \n",
    "        print(n, \"is a prime number\")\n",
    "        \n",
    "cal(n)"
   ]
  },
  {
   "cell_type": "code",
   "execution_count": null,
   "id": "6a504bb4",
   "metadata": {},
   "outputs": [],
   "source": []
  },
  {
   "cell_type": "code",
   "execution_count": null,
   "id": "519203a6",
   "metadata": {},
   "outputs": [],
   "source": []
  }
 ],
 "metadata": {
  "kernelspec": {
   "display_name": "Python 3 (ipykernel)",
   "language": "python",
   "name": "python3"
  },
  "language_info": {
   "codemirror_mode": {
    "name": "ipython",
    "version": 3
   },
   "file_extension": ".py",
   "mimetype": "text/x-python",
   "name": "python",
   "nbconvert_exporter": "python",
   "pygments_lexer": "ipython3",
   "version": "3.9.7"
  }
 },
 "nbformat": 4,
 "nbformat_minor": 5
}
