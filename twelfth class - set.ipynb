{
 "cells": [
  {
   "cell_type": "code",
   "execution_count": 1,
   "id": "abb906e7",
   "metadata": {},
   "outputs": [
    {
     "name": "stdout",
     "output_type": "stream",
     "text": [
      "<class 'set'>\n"
     ]
    }
   ],
   "source": [
    "s = {\"Apple\",\"Ball\"}\n",
    "print(type(s))"
   ]
  },
  {
   "cell_type": "code",
   "execution_count": 2,
   "id": "c30860f2",
   "metadata": {},
   "outputs": [
    {
     "name": "stdout",
     "output_type": "stream",
     "text": [
      "<class 'dict'>\n"
     ]
    }
   ],
   "source": [
    "s = {}\n",
    "print(type(s))"
   ]
  },
  {
   "cell_type": "code",
   "execution_count": 3,
   "id": "35720b78",
   "metadata": {},
   "outputs": [
    {
     "name": "stdout",
     "output_type": "stream",
     "text": [
      "set()\n"
     ]
    }
   ],
   "source": [
    "s = set()\n",
    "print(s)"
   ]
  },
  {
   "cell_type": "code",
   "execution_count": 4,
   "id": "8d796de0",
   "metadata": {},
   "outputs": [],
   "source": [
    "# SET\n",
    "# - no indexing\n",
    "# - unordered\n",
    "# - no duplicate numbers\n",
    "# - mutable"
   ]
  },
  {
   "cell_type": "code",
   "execution_count": 5,
   "id": "b2fe1184",
   "metadata": {},
   "outputs": [
    {
     "ename": "TypeError",
     "evalue": "'set' object is not subscriptable",
     "output_type": "error",
     "traceback": [
      "\u001b[0;31m---------------------------------------------------------------------------\u001b[0m",
      "\u001b[0;31mTypeError\u001b[0m                                 Traceback (most recent call last)",
      "\u001b[0;32m/var/folders/0_/kdcbhyrn1ssd2_0tvptg35cr0000gn/T/ipykernel_51498/2067554836.py\u001b[0m in \u001b[0;36m<module>\u001b[0;34m\u001b[0m\n\u001b[1;32m      1\u001b[0m \u001b[0ma\u001b[0m \u001b[0;34m=\u001b[0m \u001b[0;34m{\u001b[0m\u001b[0;36m1\u001b[0m\u001b[0;34m,\u001b[0m\u001b[0;36m2\u001b[0m\u001b[0;34m,\u001b[0m\u001b[0;36m3\u001b[0m\u001b[0;34m,\u001b[0m\u001b[0;36m4\u001b[0m\u001b[0;34m,\u001b[0m\u001b[0;36m5\u001b[0m\u001b[0;34m,\u001b[0m\u001b[0;36m6\u001b[0m\u001b[0;34m}\u001b[0m\u001b[0;34m\u001b[0m\u001b[0;34m\u001b[0m\u001b[0m\n\u001b[0;32m----> 2\u001b[0;31m \u001b[0mprint\u001b[0m\u001b[0;34m(\u001b[0m\u001b[0ma\u001b[0m\u001b[0;34m[\u001b[0m\u001b[0;36m0\u001b[0m\u001b[0;34m]\u001b[0m\u001b[0;34m)\u001b[0m\u001b[0;34m\u001b[0m\u001b[0;34m\u001b[0m\u001b[0m\n\u001b[0m",
      "\u001b[0;31mTypeError\u001b[0m: 'set' object is not subscriptable"
     ]
    }
   ],
   "source": [
    "a = {1,2,3,4,5,6}\n",
    "print(a[0])"
   ]
  },
  {
   "cell_type": "code",
   "execution_count": 6,
   "id": "8f8f3367",
   "metadata": {},
   "outputs": [
    {
     "name": "stdout",
     "output_type": "stream",
     "text": [
      "{1, 2, 3, 4, 5, 6}\n"
     ]
    }
   ],
   "source": [
    "# no duplicate members\n",
    "a = {1,2,3,4,5,6,4,2,5,1,5}\n",
    "print(a)"
   ]
  },
  {
   "cell_type": "code",
   "execution_count": 7,
   "id": "865cae95",
   "metadata": {},
   "outputs": [
    {
     "name": "stdout",
     "output_type": "stream",
     "text": [
      "{'xray', 'zebra', 'apple', 'ball', 'cat'}\n"
     ]
    }
   ],
   "source": [
    "#random order\n",
    "a = {\"apple\",\"zebra\",\"ball\",\"cat\",\"xray\"}\n",
    "print(a)"
   ]
  },
  {
   "cell_type": "code",
   "execution_count": 8,
   "id": "f0fa656d",
   "metadata": {},
   "outputs": [
    {
     "name": "stdout",
     "output_type": "stream",
     "text": [
      "{'apple', 'ball'}\n"
     ]
    }
   ],
   "source": [
    "a = set()\n",
    "a.add(\"apple\")\n",
    "a.add(\"ball\")\n",
    "print(a)"
   ]
  },
  {
   "cell_type": "code",
   "execution_count": 9,
   "id": "47d679a3",
   "metadata": {},
   "outputs": [
    {
     "name": "stdout",
     "output_type": "stream",
     "text": [
      "{1, 2, 3, 4, 5, 6, 7, 8}\n"
     ]
    }
   ],
   "source": [
    "a = {1,2,3,4,1,2,3,4,5,2,5,6,7,8,5}\n",
    "b = set(a)\n",
    "print(b)"
   ]
  },
  {
   "cell_type": "code",
   "execution_count": 10,
   "id": "eed07474",
   "metadata": {},
   "outputs": [
    {
     "name": "stdout",
     "output_type": "stream",
     "text": [
      "{'Hari', 'Nabin'}\n"
     ]
    }
   ],
   "source": [
    "abc = {\"Ram\",\"Shyam\",\"Hari\",\"Sita\",\"Gita\",\"Nabin\"}\n",
    "xyz = {\"Hari\",\"Akash\",\"Sabin\",\"Nabin\"}\n",
    "x = abc.intersection(xyz)\n",
    "print(x)"
   ]
  },
  {
   "cell_type": "code",
   "execution_count": 11,
   "id": "546ffcd9",
   "metadata": {},
   "outputs": [
    {
     "name": "stdout",
     "output_type": "stream",
     "text": [
      "{'Nabin', 'Ram', 'Sabin', 'Sita', 'Hari', 'Shyam', 'Gita', 'Akash'}\n"
     ]
    }
   ],
   "source": [
    "abc = {\"Ram\",\"Shyam\",\"Hari\",\"Sita\",\"Gita\",\"Nabin\"}\n",
    "xyz = {\"Hari\",\"Akash\",\"Sabin\",\"Nabin\"}\n",
    "\n",
    "x = abc.union(xyz)\n",
    "print(x)"
   ]
  },
  {
   "cell_type": "code",
   "execution_count": null,
   "id": "a346fbfa",
   "metadata": {},
   "outputs": [],
   "source": []
  },
  {
   "cell_type": "code",
   "execution_count": 12,
   "id": "4dfba5e5",
   "metadata": {},
   "outputs": [
    {
     "data": {
      "text/plain": [
       "{'Anisha', 'Avash'}"
      ]
     },
     "execution_count": 12,
     "metadata": {},
     "output_type": "execute_result"
    }
   ],
   "source": [
    "U = {'Nabin', 'Ram', 'Sabin', 'Sita', 'Hari', 'Shyam', 'Gita', 'Akash','Anisha','Avash'}\n",
    "abc = {\"Ram\",\"Shyam\",\"Hari\",\"Sita\",\"Gita\",\"Nabin\"}\n",
    "xyz = {\"Hari\",\"Akash\",\"Sabin\",\"Nabin\"}\n",
    "x = abc.union(xyz)\n",
    "d = U.difference(x)\n",
    "d"
   ]
  },
  {
   "cell_type": "code",
   "execution_count": 14,
   "id": "9f88ccd0",
   "metadata": {},
   "outputs": [
    {
     "name": "stdout",
     "output_type": "stream",
     "text": [
      "{1, 2, 3, 4} {'Apple', 'Ball'} {('Apple', 'Ball')} {'name': {'Hari', 'Shyam'}}\n"
     ]
    }
   ],
   "source": [
    "# exists\n",
    "a = {1,2,3,4}\n",
    "b = {\"Apple\",\"Ball\"}\n",
    "d = {(\"Apple\",\"Ball\")}\n",
    "g = {\"name\":{\"Ram\",\"Shyam\"},\"name\":{\"Hari\",\"Shyam\"}}\n",
    "\n",
    "print(a,b,d,g)"
   ]
  },
  {
   "cell_type": "code",
   "execution_count": null,
   "id": "f197e423",
   "metadata": {},
   "outputs": [],
   "source": [
    "# does not exist\n",
    "c = {[\"Apple\"],[\"Apple\"]} #dict inside set error\n",
    "f = {{1,2,3},{4,5,6}} #set inside set error\n",
    "z = {{\"name\":\"Ram\"}}\n",
    "print(c,f)"
   ]
  }
 ],
 "metadata": {
  "kernelspec": {
   "display_name": "Python 3 (ipykernel)",
   "language": "python",
   "name": "python3"
  },
  "language_info": {
   "codemirror_mode": {
    "name": "ipython",
    "version": 3
   },
   "file_extension": ".py",
   "mimetype": "text/x-python",
   "name": "python",
   "nbconvert_exporter": "python",
   "pygments_lexer": "ipython3",
   "version": "3.9.7"
  }
 },
 "nbformat": 4,
 "nbformat_minor": 5
}
